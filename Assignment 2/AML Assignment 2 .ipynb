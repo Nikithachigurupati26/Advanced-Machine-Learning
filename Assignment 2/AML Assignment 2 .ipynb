{
  "cells": [
    {
      "cell_type": "markdown",
      "source": [
        "## **NEURAL NETWORKS MODEL FOR IMDB EXAMPLE**"
      ],
      "metadata": {
        "id": "UMO83YjFBkPM"
      }
    },
    {
      "cell_type": "code",
      "execution_count": 1,
      "metadata": {
        "id": "bS1-AZ5I3Dqs"
      },
      "outputs": [],
      "source": [
        "#LOADING THE PACKAGES:\n",
        "import seaborn as sns\n",
        "import matplotlib.pyplot as plt\n",
        "%matplotlib inline"
      ]
    },
    {
      "cell_type": "code",
      "execution_count": 2,
      "metadata": {
        "colab": {
          "base_uri": "https://localhost:8080/"
        },
        "id": "d3sBytJT3Q_J",
        "outputId": "10918a89-e50f-440e-a70b-48267c4213a7"
      },
      "outputs": [
        {
          "output_type": "execute_result",
          "data": {
            "text/plain": [
              "9999"
            ]
          },
          "metadata": {},
          "execution_count": 2
        }
      ],
      "source": [
        "#IMPORTING THE IMDB DATASET:\n",
        "from tensorflow.keras.datasets import imdb\n",
        "(train_data, train_labels), (test_data, test_labels) = imdb.load_data(\n",
        "    num_words=10000)\n",
        "train_data[0]\n",
        "train_labels[0]\n",
        "max([max(sequence) for sequence in train_data])"
      ]
    },
    {
      "cell_type": "code",
      "execution_count": 3,
      "metadata": {
        "id": "_odlNPlU3YPL"
      },
      "outputs": [],
      "source": [
        "#DECODING THE REVIEWS BACK TO TEXT:\n",
        "word_index = imdb.get_word_index()\n",
        "reverse_word_index = dict(\n",
        "    [(value, key) for (key, value) in word_index.items()])\n",
        "decoded_review = \" \".join(\n",
        "    [reverse_word_index.get(i - 3, \"?\") for i in train_data[0]])"
      ]
    },
    {
      "cell_type": "markdown",
      "metadata": {
        "id": "iR9J8Nkx3joo"
      },
      "source": [
        "**PREPARATION OF THE DATASET**"
      ]
    },
    {
      "cell_type": "code",
      "execution_count": 4,
      "metadata": {
        "id": "hXdKR1DP3pH4"
      },
      "outputs": [],
      "source": [
        "#ENCODING THE INTERGERS VIA MUTLI HOT ENCODING\n",
        "\n",
        "import numpy as np\n",
        "def vectorize_sequences(sequences, dimension=10000):\n",
        "    results = np.zeros((len(sequences), dimension))\n",
        "    for i, sequence in enumerate(sequences):\n",
        "        for j in sequence:\n",
        "            results[i, j] = 1.\n",
        "    return results"
      ]
    },
    {
      "cell_type": "code",
      "execution_count": 5,
      "metadata": {
        "id": "KP2w2-N832e_"
      },
      "outputs": [],
      "source": [
        "x_train = vectorize_sequences(train_data)\n",
        "x_test = vectorize_sequences(test_data)\n",
        "x_train[0]\n",
        "y_train = np.asarray(train_labels).astype(\"float32\")\n",
        "y_test = np.asarray(test_labels).astype(\"float32\")"
      ]
    },
    {
      "cell_type": "code",
      "source": [],
      "metadata": {
        "id": "QWR3l9hVCA8E"
      },
      "execution_count": 5,
      "outputs": []
    },
    {
      "cell_type": "markdown",
      "metadata": {
        "id": "VqZYxuzz37XX"
      },
      "source": [
        "**MODEL 1:\n",
        "Hidden Layers - 2, \n",
        "Nodes - 16**"
      ]
    },
    {
      "cell_type": "code",
      "execution_count": 6,
      "metadata": {
        "id": "b-_i87Wc4DPg"
      },
      "outputs": [],
      "source": [
        "#MODEL DEFINITION:\n",
        "from tensorflow import keras\n",
        "from tensorflow.keras import layers\n",
        "\n",
        "Model_1 = keras.Sequential([\n",
        "    layers.Dense(16, activation=\"tanh\"),\n",
        "    layers.Dense(16, activation=\"tanh\"),\n",
        "    layers.Dense(1, activation=\"sigmoid\")\n",
        "])"
      ]
    },
    {
      "cell_type": "code",
      "execution_count": 7,
      "metadata": {
        "id": "nH0v_IML4O5X"
      },
      "outputs": [],
      "source": [
        "# COMPILING MODEL:\n",
        "Model_1.compile(optimizer=\"rmsprop\",\n",
        "              loss=\"mse\",\n",
        "              metrics=[\"accuracy\"])\n"
      ]
    },
    {
      "cell_type": "code",
      "execution_count": 8,
      "metadata": {
        "id": "JRbPQACy4bEb"
      },
      "outputs": [],
      "source": [
        "#SETTING THE VALIDATION AND TRAINING SET:\n",
        "x_val = x_train[:10000]\n",
        "partial_x_train = x_train[10000:]\n",
        "y_val = y_train[:10000]\n",
        "partial_y_train = y_train[10000:]\n"
      ]
    },
    {
      "cell_type": "code",
      "execution_count": 9,
      "metadata": {
        "colab": {
          "base_uri": "https://localhost:8080/"
        },
        "id": "VD7kuXAb4kri",
        "outputId": "619d83a2-6a57-4298-f110-612851967b18"
      },
      "outputs": [
        {
          "output_type": "stream",
          "name": "stdout",
          "text": [
            "Epoch 1/20\n",
            "30/30 [==============================] - 2s 34ms/step - loss: 0.1782 - accuracy: 0.7771 - val_loss: 0.1339 - val_accuracy: 0.8440\n",
            "Epoch 2/20\n",
            "30/30 [==============================] - 1s 18ms/step - loss: 0.1027 - accuracy: 0.8898 - val_loss: 0.0968 - val_accuracy: 0.8821\n",
            "Epoch 3/20\n",
            "30/30 [==============================] - 0s 13ms/step - loss: 0.0770 - accuracy: 0.9081 - val_loss: 0.0869 - val_accuracy: 0.8855\n",
            "Epoch 4/20\n",
            "30/30 [==============================] - 0s 15ms/step - loss: 0.0593 - accuracy: 0.9299 - val_loss: 0.0828 - val_accuracy: 0.8875\n",
            "Epoch 5/20\n",
            "30/30 [==============================] - 0s 15ms/step - loss: 0.0482 - accuracy: 0.9431 - val_loss: 0.0846 - val_accuracy: 0.8876\n",
            "Epoch 6/20\n",
            "30/30 [==============================] - 0s 13ms/step - loss: 0.0417 - accuracy: 0.9509 - val_loss: 0.0989 - val_accuracy: 0.8673\n",
            "Epoch 7/20\n",
            "30/30 [==============================] - 0s 13ms/step - loss: 0.0365 - accuracy: 0.9569 - val_loss: 0.0908 - val_accuracy: 0.8816\n",
            "Epoch 8/20\n",
            "30/30 [==============================] - 0s 15ms/step - loss: 0.0303 - accuracy: 0.9665 - val_loss: 0.0911 - val_accuracy: 0.8769\n",
            "Epoch 9/20\n",
            "30/30 [==============================] - 0s 13ms/step - loss: 0.0263 - accuracy: 0.9715 - val_loss: 0.0952 - val_accuracy: 0.8786\n",
            "Epoch 10/20\n",
            "30/30 [==============================] - 0s 14ms/step - loss: 0.0224 - accuracy: 0.9770 - val_loss: 0.0971 - val_accuracy: 0.8779\n",
            "Epoch 11/20\n",
            "30/30 [==============================] - 0s 16ms/step - loss: 0.0192 - accuracy: 0.9801 - val_loss: 0.1031 - val_accuracy: 0.8691\n",
            "Epoch 12/20\n",
            "30/30 [==============================] - 0s 13ms/step - loss: 0.0180 - accuracy: 0.9807 - val_loss: 0.0998 - val_accuracy: 0.8766\n",
            "Epoch 13/20\n",
            "30/30 [==============================] - 0s 15ms/step - loss: 0.0171 - accuracy: 0.9815 - val_loss: 0.1005 - val_accuracy: 0.8772\n",
            "Epoch 14/20\n",
            "30/30 [==============================] - 0s 12ms/step - loss: 0.0153 - accuracy: 0.9839 - val_loss: 0.1015 - val_accuracy: 0.8773\n",
            "Epoch 15/20\n",
            "30/30 [==============================] - 0s 15ms/step - loss: 0.0140 - accuracy: 0.9850 - val_loss: 0.1033 - val_accuracy: 0.8735\n",
            "Epoch 16/20\n",
            "30/30 [==============================] - 0s 13ms/step - loss: 0.0144 - accuracy: 0.9841 - val_loss: 0.1038 - val_accuracy: 0.8755\n",
            "Epoch 17/20\n",
            "30/30 [==============================] - 0s 15ms/step - loss: 0.0103 - accuracy: 0.9897 - val_loss: 0.1172 - val_accuracy: 0.8622\n",
            "Epoch 18/20\n",
            "30/30 [==============================] - 0s 15ms/step - loss: 0.0094 - accuracy: 0.9911 - val_loss: 0.1503 - val_accuracy: 0.8258\n",
            "Epoch 19/20\n",
            "30/30 [==============================] - 0s 13ms/step - loss: 0.0109 - accuracy: 0.9888 - val_loss: 0.1069 - val_accuracy: 0.8740\n",
            "Epoch 20/20\n",
            "30/30 [==============================] - 0s 15ms/step - loss: 0.0130 - accuracy: 0.9853 - val_loss: 0.1084 - val_accuracy: 0.8717\n"
          ]
        }
      ],
      "source": [
        "# TRAINING THE MODEL:\n",
        "history = Model_1.fit(partial_x_train,\n",
        "                    partial_y_train,\n",
        "                    epochs=20,\n",
        "                    batch_size=512,\n",
        "                    validation_data=(x_val, y_val))"
      ]
    },
    {
      "cell_type": "code",
      "execution_count": 10,
      "metadata": {
        "colab": {
          "base_uri": "https://localhost:8080/"
        },
        "id": "hEADWtXJ5HBa",
        "outputId": "f4aed701-cc9a-473d-8798-526223298b0c"
      },
      "outputs": [
        {
          "output_type": "execute_result",
          "data": {
            "text/plain": [
              "dict_keys(['loss', 'accuracy', 'val_loss', 'val_accuracy'])"
            ]
          },
          "metadata": {},
          "execution_count": 10
        }
      ],
      "source": [
        "Hist_dict = history.history\n",
        "Hist_dict.keys()\n"
      ]
    },
    {
      "cell_type": "code",
      "execution_count": 11,
      "metadata": {
        "colab": {
          "base_uri": "https://localhost:8080/",
          "height": 295
        },
        "id": "197N1p8S5SWf",
        "outputId": "a6ed1b72-2dcf-4d0d-eb62-69af4c2f2cd2"
      },
      "outputs": [
        {
          "output_type": "display_data",
          "data": {
            "text/plain": [
              "<Figure size 432x288 with 1 Axes>"
            ],
            "image/png": "[encoded data removed]"
          },
          "metadata": {
            "needs_background": "light"
          }
        }
      ],
      "source": [
        "# PLOTTING THE TRAINING AND VALIDATION LOSS\n",
        "import matplotlib.pyplot as plt\n",
        "Hist_dict = history.history\n",
        "loss_values = Hist_dict[\"loss\"]\n",
        "val_loss_values = Hist_dict[\"val_loss\"]\n",
        "epochs = range(1, len(loss_values) + 1)\n",
        "plt.plot(epochs, loss_values, \"r\", label=\"Training loss\")\n",
        "plt.plot(epochs, val_loss_values, \"grey\", label=\"Validation loss\")\n",
        "plt.title(\"Training and Validation Loss\")\n",
        "plt.xlabel(\"Epochs\")\n",
        "plt.ylabel(\"Loss\")\n",
        "plt.legend()\n",
        "plt.show()\n"
      ]
    },
    {
      "cell_type": "code",
      "execution_count": 12,
      "metadata": {
        "colab": {
          "base_uri": "https://localhost:8080/",
          "height": 295
        },
        "id": "ZItqNuzW5kCE",
        "outputId": "5c881218-89d3-44fb-ceae-4a4e94e0efa1"
      },
      "outputs": [
        {
          "output_type": "display_data",
          "data": {
            "text/plain": [
              "<Figure size 432x288 with 1 Axes>"
            ],
            "image/png": "[encoded data removed]"
          },
          "metadata": {
            "needs_background": "light"
          }
        }
      ],
      "source": [
        "#PLOTTING THE TRAINING AND VALIDATION ACCURACIES\n",
        "plt.clf()\n",
        "acc = Hist_dict[\"accuracy\"]\n",
        "val_acc = Hist_dict[\"val_accuracy\"]\n",
        "plt.plot(epochs, acc, \"bo\", label=\"Training acc\")\n",
        "plt.plot(epochs, val_acc, \"grey\", label=\"Validation acc\")\n",
        "plt.title(\"Training and Validation Accuracy\")\n",
        "plt.xlabel(\"Epochs\")\n",
        "plt.ylabel(\"Accuracy\")\n",
        "plt.legend()\n",
        "plt.show()\n"
      ]
    },
    {
      "cell_type": "code",
      "execution_count": 13,
      "metadata": {
        "colab": {
          "base_uri": "https://localhost:8080/"
        },
        "id": "Q1xNFI5r5_Jw",
        "outputId": "138ddc5d-5c25-4d97-be23-4258b2f64009"
      },
      "outputs": [
        {
          "output_type": "stream",
          "name": "stdout",
          "text": [
            "Epoch 1/4\n",
            "49/49 [==============================] - 1s 10ms/step - loss: 0.1457 - accuracy: 0.8110\n",
            "Epoch 2/4\n",
            "49/49 [==============================] - 1s 10ms/step - loss: 0.0792 - accuracy: 0.9032\n",
            "Epoch 3/4\n",
            "49/49 [==============================] - 1s 12ms/step - loss: 0.0618 - accuracy: 0.9220\n",
            "Epoch 4/4\n",
            "49/49 [==============================] - 1s 12ms/step - loss: 0.0529 - accuracy: 0.9336\n",
            "782/782 [==============================] - 1s 2ms/step - loss: 0.0890 - accuracy: 0.8803\n"
          ]
        }
      ],
      "source": [
        "#RETRAINING THE MODEL WITH epochs=4 \n",
        "Model_1 = keras.Sequential([\n",
        "    layers.Dense(16, activation=\"tanh\"),\n",
        "    layers.Dense(16, activation=\"tanh\"),\n",
        "    layers.Dense(1, activation=\"sigmoid\")\n",
        "])\n",
        "Model_1.compile(optimizer=\"rmsprop\",\n",
        "              loss=\"mse\",\n",
        "              metrics=[\"accuracy\"])\n",
        "Model_1.fit(x_train, y_train, epochs=4, batch_size=512)\n",
        "results = Model_1.evaluate(x_test, y_test)\n",
        "     "
      ]
    },
    {
      "cell_type": "code",
      "execution_count": 14,
      "metadata": {
        "colab": {
          "base_uri": "https://localhost:8080/"
        },
        "id": "oM49mcyE6Vll",
        "outputId": "1c37bfd7-a589-432a-d77f-4ab34c8f6e42"
      },
      "outputs": [
        {
          "output_type": "stream",
          "name": "stdout",
          "text": [
            "782/782 [==============================] - 1s 2ms/step - loss: 0.0890 - accuracy: 0.8803\n"
          ]
        }
      ],
      "source": [
        "Result_1=Model_1.evaluate(x_test,y_test)"
      ]
    },
    {
      "cell_type": "markdown",
      "metadata": {
        "id": "f9kTmgV76jeP"
      },
      "source": [
        "**The first model built had an accuracy on the test set of 88.03%**"
      ]
    },
    {
      "cell_type": "code",
      "execution_count": 15,
      "metadata": {
        "colab": {
          "base_uri": "https://localhost:8080/"
        },
        "id": "1KNOYFKf6slW",
        "outputId": "c0855942-0516-4b22-9731-ebe240f6a0de"
      },
      "outputs": [
        {
          "output_type": "stream",
          "name": "stdout",
          "text": [
            "782/782 [==============================] - 1s 1ms/step\n"
          ]
        },
        {
          "output_type": "execute_result",
          "data": {
            "text/plain": [
              "array([[0.08336519],\n",
              "       [0.9962984 ],\n",
              "       [0.77885574],\n",
              "       ...,\n",
              "       [0.09231561],\n",
              "       [0.05729458],\n",
              "       [0.41178972]], dtype=float32)"
            ]
          },
          "metadata": {},
          "execution_count": 15
        }
      ],
      "source": [
        "# USING A TRAINED MODEL TO GENERATE PREDICTIONS ON THE NEW DATA:\n",
        "Model_1.predict(x_test)"
      ]
    },
    {
      "cell_type": "markdown",
      "metadata": {
        "id": "yz95z20p7G8J"
      },
      "source": [
        "**MODEL 2 - Hidden Layer - 1, Nodes - 64**"
      ]
    },
    {
      "cell_type": "code",
      "execution_count": 16,
      "metadata": {
        "colab": {
          "base_uri": "https://localhost:8080/"
        },
        "id": "_xFKXEdM7YTe",
        "outputId": "dd1cac20-6585-4b0e-fe54-99740cdcc9ce"
      },
      "outputs": [
        {
          "output_type": "stream",
          "name": "stdout",
          "text": [
            "Epoch 1/50\n",
            "30/30 [==============================] - 1s 36ms/step - loss: 0.1695 - accuracy: 0.7623 - val_loss: 0.1170 - val_accuracy: 0.8710\n",
            "Epoch 2/50\n",
            "30/30 [==============================] - 1s 25ms/step - loss: 0.1012 - accuracy: 0.8806 - val_loss: 0.1240 - val_accuracy: 0.8258\n",
            "Epoch 3/50\n",
            "30/30 [==============================] - 1s 26ms/step - loss: 0.0786 - accuracy: 0.9067 - val_loss: 0.1210 - val_accuracy: 0.8298\n",
            "Epoch 4/50\n",
            "30/30 [==============================] - 1s 24ms/step - loss: 0.0686 - accuracy: 0.9173 - val_loss: 0.0842 - val_accuracy: 0.8871\n",
            "Epoch 5/50\n",
            "30/30 [==============================] - 1s 28ms/step - loss: 0.0611 - accuracy: 0.9256 - val_loss: 0.1116 - val_accuracy: 0.8456\n",
            "Epoch 6/50\n",
            "30/30 [==============================] - 1s 28ms/step - loss: 0.0545 - accuracy: 0.9353 - val_loss: 0.0837 - val_accuracy: 0.8865\n",
            "Epoch 7/50\n",
            "30/30 [==============================] - 1s 24ms/step - loss: 0.0499 - accuracy: 0.9419 - val_loss: 0.0866 - val_accuracy: 0.8783\n",
            "Epoch 8/50\n",
            "30/30 [==============================] - 1s 25ms/step - loss: 0.0438 - accuracy: 0.9489 - val_loss: 0.0863 - val_accuracy: 0.8841\n",
            "Epoch 9/50\n",
            "30/30 [==============================] - 1s 24ms/step - loss: 0.0430 - accuracy: 0.9471 - val_loss: 0.0879 - val_accuracy: 0.8785\n",
            "Epoch 10/50\n",
            "30/30 [==============================] - 1s 25ms/step - loss: 0.0397 - accuracy: 0.9540 - val_loss: 0.0937 - val_accuracy: 0.8715\n",
            "Epoch 11/50\n",
            "30/30 [==============================] - 1s 25ms/step - loss: 0.0327 - accuracy: 0.9659 - val_loss: 0.0965 - val_accuracy: 0.8733\n",
            "Epoch 12/50\n",
            "30/30 [==============================] - 1s 25ms/step - loss: 0.0362 - accuracy: 0.9585 - val_loss: 0.0892 - val_accuracy: 0.8808\n",
            "Epoch 13/50\n",
            "30/30 [==============================] - 1s 25ms/step - loss: 0.0308 - accuracy: 0.9661 - val_loss: 0.1033 - val_accuracy: 0.8676\n",
            "Epoch 14/50\n",
            "30/30 [==============================] - 1s 25ms/step - loss: 0.0272 - accuracy: 0.9715 - val_loss: 0.0916 - val_accuracy: 0.8774\n",
            "Epoch 15/50\n",
            "30/30 [==============================] - 1s 25ms/step - loss: 0.0265 - accuracy: 0.9713 - val_loss: 0.1125 - val_accuracy: 0.8583\n",
            "Epoch 16/50\n",
            "30/30 [==============================] - 1s 25ms/step - loss: 0.0251 - accuracy: 0.9735 - val_loss: 0.0938 - val_accuracy: 0.8759\n",
            "Epoch 17/50\n",
            "30/30 [==============================] - 1s 25ms/step - loss: 0.0228 - accuracy: 0.9763 - val_loss: 0.0952 - val_accuracy: 0.8770\n",
            "Epoch 18/50\n",
            "30/30 [==============================] - 1s 25ms/step - loss: 0.0219 - accuracy: 0.9771 - val_loss: 0.1048 - val_accuracy: 0.8668\n",
            "Epoch 19/50\n",
            "30/30 [==============================] - 1s 25ms/step - loss: 0.0221 - accuracy: 0.9770 - val_loss: 0.0969 - val_accuracy: 0.8754\n",
            "Epoch 20/50\n",
            "30/30 [==============================] - 1s 28ms/step - loss: 0.0184 - accuracy: 0.9817 - val_loss: 0.0979 - val_accuracy: 0.8749\n",
            "Epoch 21/50\n",
            "30/30 [==============================] - 1s 28ms/step - loss: 0.0180 - accuracy: 0.9829 - val_loss: 0.0985 - val_accuracy: 0.8743\n",
            "Epoch 22/50\n",
            "30/30 [==============================] - 1s 24ms/step - loss: 0.0168 - accuracy: 0.9838 - val_loss: 0.1004 - val_accuracy: 0.8706\n",
            "Epoch 23/50\n",
            "30/30 [==============================] - 1s 24ms/step - loss: 0.0163 - accuracy: 0.9843 - val_loss: 0.1003 - val_accuracy: 0.8722\n",
            "Epoch 24/50\n",
            "30/30 [==============================] - 1s 25ms/step - loss: 0.0170 - accuracy: 0.9831 - val_loss: 0.1011 - val_accuracy: 0.8720\n",
            "Epoch 25/50\n",
            "30/30 [==============================] - 1s 25ms/step - loss: 0.0167 - accuracy: 0.9826 - val_loss: 0.1005 - val_accuracy: 0.8744\n",
            "Epoch 26/50\n",
            "30/30 [==============================] - 1s 24ms/step - loss: 0.0114 - accuracy: 0.9907 - val_loss: 0.1169 - val_accuracy: 0.8582\n",
            "Epoch 27/50\n",
            "30/30 [==============================] - 1s 24ms/step - loss: 0.0164 - accuracy: 0.9830 - val_loss: 0.1085 - val_accuracy: 0.8661\n",
            "Epoch 28/50\n",
            "30/30 [==============================] - 1s 25ms/step - loss: 0.0101 - accuracy: 0.9917 - val_loss: 0.1144 - val_accuracy: 0.8613\n",
            "Epoch 29/50\n",
            "30/30 [==============================] - 1s 28ms/step - loss: 0.0133 - accuracy: 0.9873 - val_loss: 0.1048 - val_accuracy: 0.8714\n",
            "Epoch 30/50\n",
            "30/30 [==============================] - 1s 29ms/step - loss: 0.0138 - accuracy: 0.9861 - val_loss: 0.1044 - val_accuracy: 0.8712\n",
            "Epoch 31/50\n",
            "30/30 [==============================] - 1s 28ms/step - loss: 0.0144 - accuracy: 0.9847 - val_loss: 0.1043 - val_accuracy: 0.8728\n",
            "Epoch 32/50\n",
            "30/30 [==============================] - 1s 23ms/step - loss: 0.0143 - accuracy: 0.9851 - val_loss: 0.1044 - val_accuracy: 0.8734\n",
            "Epoch 33/50\n",
            "30/30 [==============================] - 1s 25ms/step - loss: 0.0091 - accuracy: 0.9920 - val_loss: 0.1359 - val_accuracy: 0.8391\n",
            "Epoch 34/50\n",
            "30/30 [==============================] - 1s 25ms/step - loss: 0.0110 - accuracy: 0.9892 - val_loss: 0.1075 - val_accuracy: 0.8718\n",
            "Epoch 35/50\n",
            "30/30 [==============================] - 1s 28ms/step - loss: 0.0129 - accuracy: 0.9869 - val_loss: 0.1063 - val_accuracy: 0.8716\n",
            "Epoch 36/50\n",
            "30/30 [==============================] - 1s 28ms/step - loss: 0.0131 - accuracy: 0.9857 - val_loss: 0.1066 - val_accuracy: 0.8712\n",
            "Epoch 37/50\n",
            "30/30 [==============================] - 1s 23ms/step - loss: 0.0082 - accuracy: 0.9928 - val_loss: 0.1138 - val_accuracy: 0.8642\n",
            "Epoch 38/50\n",
            "30/30 [==============================] - 1s 24ms/step - loss: 0.0123 - accuracy: 0.9869 - val_loss: 0.1078 - val_accuracy: 0.8699\n",
            "Epoch 39/50\n",
            "30/30 [==============================] - 1s 25ms/step - loss: 0.0119 - accuracy: 0.9874 - val_loss: 0.1068 - val_accuracy: 0.8725\n",
            "Epoch 40/50\n",
            "30/30 [==============================] - 1s 25ms/step - loss: 0.0079 - accuracy: 0.9929 - val_loss: 0.1089 - val_accuracy: 0.8714\n",
            "Epoch 41/50\n",
            "30/30 [==============================] - 1s 24ms/step - loss: 0.0123 - accuracy: 0.9873 - val_loss: 0.1074 - val_accuracy: 0.8717\n",
            "Epoch 42/50\n",
            "30/30 [==============================] - 1s 25ms/step - loss: 0.0103 - accuracy: 0.9894 - val_loss: 0.1207 - val_accuracy: 0.8563\n",
            "Epoch 43/50\n",
            "30/30 [==============================] - 1s 24ms/step - loss: 0.0080 - accuracy: 0.9927 - val_loss: 0.1082 - val_accuracy: 0.8705\n",
            "Epoch 44/50\n",
            "30/30 [==============================] - 1s 25ms/step - loss: 0.0117 - accuracy: 0.9876 - val_loss: 0.1086 - val_accuracy: 0.8705\n",
            "Epoch 45/50\n",
            "30/30 [==============================] - 1s 25ms/step - loss: 0.0076 - accuracy: 0.9930 - val_loss: 0.1086 - val_accuracy: 0.8705\n",
            "Epoch 46/50\n",
            "30/30 [==============================] - 1s 25ms/step - loss: 0.0123 - accuracy: 0.9864 - val_loss: 0.1089 - val_accuracy: 0.8700\n",
            "Epoch 47/50\n",
            "30/30 [==============================] - 1s 25ms/step - loss: 0.0075 - accuracy: 0.9930 - val_loss: 0.1114 - val_accuracy: 0.8685\n",
            "Epoch 48/50\n",
            "30/30 [==============================] - 1s 25ms/step - loss: 0.0112 - accuracy: 0.9878 - val_loss: 0.1094 - val_accuracy: 0.8695\n",
            "Epoch 49/50\n",
            "30/30 [==============================] - 1s 25ms/step - loss: 0.0075 - accuracy: 0.9931 - val_loss: 0.1098 - val_accuracy: 0.8700\n",
            "Epoch 50/50\n",
            "30/30 [==============================] - 1s 26ms/step - loss: 0.0118 - accuracy: 0.9867 - val_loss: 0.1101 - val_accuracy: 0.8694\n"
          ]
        }
      ],
      "source": [
        "#MODEL DEFINITION:\n",
        "Model_2 = keras.Sequential([\n",
        "    layers.Dense(64,activation='tanh',input_shape=(10000,)),\n",
        "    layers.Dense(1,activation='sigmoid')\n",
        "])\n",
        "\n",
        "#COMPLILING THE MODEL:\n",
        "Model_2.compile(optimizer='rmsprop',\n",
        "              loss='mse',\n",
        "              metrics=['accuracy'])\n",
        "\n",
        "Hist2 = Model_2.fit(partial_x_train,\n",
        "                       partial_y_train,\n",
        "                       epochs=50,\n",
        "                       batch_size=512,\n",
        "                       validation_data=(x_val,y_val))"
      ]
    },
    {
      "cell_type": "code",
      "execution_count": 17,
      "metadata": {
        "id": "t8y55XQX7zY3"
      },
      "outputs": [],
      "source": [
        "Hist_dict_2 = Hist2.history"
      ]
    },
    {
      "cell_type": "code",
      "execution_count": 18,
      "metadata": {
        "colab": {
          "base_uri": "https://localhost:8080/",
          "height": 279
        },
        "id": "JAg3KshO766T",
        "outputId": "88fa79c4-8e56-440f-ee1f-2006a84f6da0"
      },
      "outputs": [
        {
          "output_type": "display_data",
          "data": {
            "text/plain": [
              "<Figure size 432x288 with 1 Axes>"
            ],
            "image/png": "[encoded data removed]"
          },
          "metadata": {
            "needs_background": "light"
          }
        }
      ],
      "source": [
        "#PLOTTING THE TRAINING AND VALIDATION LOSS:\n",
        "Loss = Hist_dict_2['loss']\n",
        "val_loss = Hist_dict_2['val_loss']\n",
        "epochs = range(1, len(Loss)+1)\n",
        "plt.plot(epochs, Loss, color= \"grey\", label= \"Training Loss\")\n",
        "plt.plot(epochs, val_loss, color= \"red\",linestyle= \"dashed\", label= \"Validation Loss\")\n",
        "plt.xlabel(\"Epochs\")\n",
        "plt.ylabel(\"Loss\")\n",
        "plt.legend()\n",
        "plt.show()\n"
      ]
    },
    {
      "cell_type": "markdown",
      "metadata": {
        "id": "ybgVQlF78c10"
      },
      "source": [
        "The validation loss begins to take a spike after the third epoch, so based on the loss graph above, we can determine that \"3\" is the appropriate number of epochs.\n",
        "\n"
      ]
    },
    {
      "cell_type": "code",
      "execution_count": 19,
      "metadata": {
        "colab": {
          "base_uri": "https://localhost:8080/",
          "height": 279
        },
        "id": "J3lU71yY8fbF",
        "outputId": "71adfc64-1739-4874-d8b4-32b95a553b82"
      },
      "outputs": [
        {
          "output_type": "display_data",
          "data": {
            "text/plain": [
              "<Figure size 432x288 with 1 Axes>"
            ],
            "image/png": "[encoded data removed]"
          },
          "metadata": {
            "needs_background": "light"
          }
        }
      ],
      "source": [
        "#PLOTTING THE TRAINING AND VALIDATION ACCURACY:\n",
        "Accuracy = Hist_dict_2['accuracy']\n",
        "Validation_accuracy = Hist_dict_2['val_accuracy']\n",
        "epochs = range(1, len(Accuracy)+1)\n",
        "plt.plot(epochs,Accuracy,color=\"grey\",label=\"Training Accuracy\")\n",
        "plt.plot(epochs,Validation_accuracy, color= \"blue\", linestyle=\"dashed\",label=\"Validation Accuracy\")\n",
        "plt.xlabel('Epochs')\n",
        "plt.ylabel('Accuracy')\n",
        "plt.legend()\n",
        "plt.show()\n"
      ]
    },
    {
      "cell_type": "markdown",
      "metadata": {
        "id": "B251ybX686Jy"
      },
      "source": [
        "Even from the accuracy graph we can say that the accuracy was highest at epoch=3\n",
        "\n"
      ]
    },
    {
      "cell_type": "code",
      "execution_count": 20,
      "metadata": {
        "colab": {
          "base_uri": "https://localhost:8080/"
        },
        "id": "P3Ztw9BC864J",
        "outputId": "fede38d4-837d-49ea-8af3-0b73cd9fe34b"
      },
      "outputs": [
        {
          "output_type": "stream",
          "name": "stdout",
          "text": [
            "Epoch 1/3\n",
            "49/49 [==============================] - 1s 18ms/step - loss: 0.1424 - accuracy: 0.8102\n",
            "Epoch 2/3\n",
            "49/49 [==============================] - 1s 18ms/step - loss: 0.0855 - accuracy: 0.8920\n",
            "Epoch 3/3\n",
            "49/49 [==============================] - 1s 18ms/step - loss: 0.0714 - accuracy: 0.9099\n"
          ]
        }
      ],
      "source": [
        "#RETRAINING THE MODEL WITH epoch = 3\n",
        "Model_2 = keras.Sequential([\n",
        "    layers.Dense(64,activation='tanh',input_shape=(10000,)),\n",
        "    layers.Dense(1,activation='sigmoid')\n",
        "])\n",
        "\n",
        "Model_2.compile(optimizer='rmsprop',\n",
        "              loss='mse',\n",
        "              metrics=['accuracy'])\n",
        "\n",
        "history_3 = Model_2.fit(x_train,\n",
        "                       y_train,\n",
        "                       epochs=3,\n",
        "                      batch_size=512)"
      ]
    },
    {
      "cell_type": "code",
      "execution_count": 21,
      "metadata": {
        "colab": {
          "base_uri": "https://localhost:8080/"
        },
        "id": "ahUmq-CX9SVn",
        "outputId": "f8803a33-7568-452f-8369-4f0fbc3cc1d0"
      },
      "outputs": [
        {
          "output_type": "stream",
          "name": "stdout",
          "text": [
            "782/782 [==============================] - 2s 2ms/step - loss: 0.0828 - accuracy: 0.8889\n"
          ]
        }
      ],
      "source": [
        "Result_2= Model_2.evaluate(x_test,y_test)\n"
      ]
    },
    {
      "cell_type": "markdown",
      "metadata": {
        "id": "34bxbbdr9UaX"
      },
      "source": [
        "**The second model built had an accuracy on the test set of 88.89%.**\n",
        "\n"
      ]
    },
    {
      "cell_type": "code",
      "source": [
        "# USING A TRAINED MODEL TO GENERATE PREDICTIONS ON THE NEW DATA:\n",
        "Model_2.predict(x_test)"
      ],
      "metadata": {
        "colab": {
          "base_uri": "https://localhost:8080/"
        },
        "id": "th5IWHVZCub5",
        "outputId": "95feed7a-2a5f-4b2a-869d-e8d5716f40fd"
      },
      "execution_count": 22,
      "outputs": [
        {
          "output_type": "stream",
          "name": "stdout",
          "text": [
            "782/782 [==============================] - 2s 3ms/step\n"
          ]
        },
        {
          "output_type": "execute_result",
          "data": {
            "text/plain": [
              "array([[0.240855  ],\n",
              "       [0.9993237 ],\n",
              "       [0.81981176],\n",
              "       ...,\n",
              "       [0.12796728],\n",
              "       [0.14218387],\n",
              "       [0.45393446]], dtype=float32)"
            ]
          },
          "metadata": {},
          "execution_count": 22
        }
      ]
    },
    {
      "cell_type": "markdown",
      "metadata": {
        "id": "IjgKgnsg-0A5"
      },
      "source": [
        "**MODEL 3 - Hidden Layers - 2, Nodes - 64**"
      ]
    },
    {
      "cell_type": "code",
      "execution_count": 23,
      "metadata": {
        "colab": {
          "base_uri": "https://localhost:8080/"
        },
        "id": "BMm9_txJ_Bss",
        "outputId": "ad814082-c298-4b8e-cd2f-3a3cb4b72d7a"
      },
      "outputs": [
        {
          "output_type": "stream",
          "name": "stdout",
          "text": [
            "Epoch 1/50\n",
            "59/59 [==============================] - 4s 49ms/step - loss: 0.1398 - accuracy: 0.8025 - val_loss: 0.0983 - val_accuracy: 0.8654\n",
            "Epoch 2/50\n",
            "59/59 [==============================] - 2s 27ms/step - loss: 0.0803 - accuracy: 0.8944 - val_loss: 0.0829 - val_accuracy: 0.8855\n",
            "Epoch 3/50\n",
            "59/59 [==============================] - 1s 18ms/step - loss: 0.0625 - accuracy: 0.9191 - val_loss: 0.0869 - val_accuracy: 0.8845\n",
            "Epoch 4/50\n",
            "59/59 [==============================] - 1s 18ms/step - loss: 0.0536 - accuracy: 0.9306 - val_loss: 0.0898 - val_accuracy: 0.8790\n",
            "Epoch 5/50\n",
            "59/59 [==============================] - 1s 18ms/step - loss: 0.0451 - accuracy: 0.9449 - val_loss: 0.0998 - val_accuracy: 0.8690\n",
            "Epoch 6/50\n",
            "59/59 [==============================] - 1s 18ms/step - loss: 0.0412 - accuracy: 0.9501 - val_loss: 0.0948 - val_accuracy: 0.8798\n",
            "Epoch 7/50\n",
            "59/59 [==============================] - 1s 20ms/step - loss: 0.0353 - accuracy: 0.9565 - val_loss: 0.0987 - val_accuracy: 0.8765\n",
            "Epoch 8/50\n",
            "59/59 [==============================] - 1s 19ms/step - loss: 0.0327 - accuracy: 0.9597 - val_loss: 0.0982 - val_accuracy: 0.8790\n",
            "Epoch 9/50\n",
            "59/59 [==============================] - 1s 18ms/step - loss: 0.0298 - accuracy: 0.9643 - val_loss: 0.1015 - val_accuracy: 0.8770\n",
            "Epoch 10/50\n",
            "59/59 [==============================] - 1s 17ms/step - loss: 0.0280 - accuracy: 0.9671 - val_loss: 0.1046 - val_accuracy: 0.8727\n",
            "Epoch 11/50\n",
            "59/59 [==============================] - 1s 17ms/step - loss: 0.0247 - accuracy: 0.9715 - val_loss: 0.1083 - val_accuracy: 0.8718\n",
            "Epoch 12/50\n",
            "59/59 [==============================] - 1s 18ms/step - loss: 0.0237 - accuracy: 0.9723 - val_loss: 0.1050 - val_accuracy: 0.8751\n",
            "Epoch 13/50\n",
            "59/59 [==============================] - 1s 17ms/step - loss: 0.0229 - accuracy: 0.9730 - val_loss: 0.1075 - val_accuracy: 0.8760\n",
            "Epoch 14/50\n",
            "59/59 [==============================] - 1s 18ms/step - loss: 0.0204 - accuracy: 0.9765 - val_loss: 0.1072 - val_accuracy: 0.8757\n",
            "Epoch 15/50\n",
            "59/59 [==============================] - 1s 17ms/step - loss: 0.0206 - accuracy: 0.9760 - val_loss: 0.1076 - val_accuracy: 0.8753\n",
            "Epoch 16/50\n",
            "59/59 [==============================] - 1s 17ms/step - loss: 0.0193 - accuracy: 0.9781 - val_loss: 0.1081 - val_accuracy: 0.8756\n",
            "Epoch 17/50\n",
            "59/59 [==============================] - 1s 18ms/step - loss: 0.0189 - accuracy: 0.9775 - val_loss: 0.1135 - val_accuracy: 0.8698\n",
            "Epoch 18/50\n",
            "59/59 [==============================] - 1s 20ms/step - loss: 0.0164 - accuracy: 0.9817 - val_loss: 0.1224 - val_accuracy: 0.8620\n",
            "Epoch 19/50\n",
            "59/59 [==============================] - 1s 18ms/step - loss: 0.0179 - accuracy: 0.9787 - val_loss: 0.1152 - val_accuracy: 0.8701\n",
            "Epoch 20/50\n",
            "59/59 [==============================] - 1s 17ms/step - loss: 0.0164 - accuracy: 0.9811 - val_loss: 0.1179 - val_accuracy: 0.8671\n",
            "Epoch 21/50\n",
            "59/59 [==============================] - 1s 18ms/step - loss: 0.0158 - accuracy: 0.9827 - val_loss: 0.1167 - val_accuracy: 0.8674\n",
            "Epoch 22/50\n",
            "59/59 [==============================] - 1s 18ms/step - loss: 0.0158 - accuracy: 0.9824 - val_loss: 0.1138 - val_accuracy: 0.8727\n",
            "Epoch 23/50\n",
            "59/59 [==============================] - 1s 18ms/step - loss: 0.0154 - accuracy: 0.9819 - val_loss: 0.1150 - val_accuracy: 0.8719\n",
            "Epoch 24/50\n",
            "59/59 [==============================] - 1s 17ms/step - loss: 0.0157 - accuracy: 0.9825 - val_loss: 0.1143 - val_accuracy: 0.8736\n",
            "Epoch 25/50\n",
            "59/59 [==============================] - 1s 18ms/step - loss: 0.0135 - accuracy: 0.9855 - val_loss: 0.1183 - val_accuracy: 0.8691\n",
            "Epoch 26/50\n",
            "59/59 [==============================] - 1s 18ms/step - loss: 0.0137 - accuracy: 0.9847 - val_loss: 0.1170 - val_accuracy: 0.8706\n",
            "Epoch 27/50\n",
            "59/59 [==============================] - 1s 18ms/step - loss: 0.0134 - accuracy: 0.9854 - val_loss: 0.1163 - val_accuracy: 0.8707\n",
            "Epoch 28/50\n",
            "59/59 [==============================] - 1s 18ms/step - loss: 0.0132 - accuracy: 0.9861 - val_loss: 0.1179 - val_accuracy: 0.8686\n",
            "Epoch 29/50\n",
            "59/59 [==============================] - 1s 19ms/step - loss: 0.0135 - accuracy: 0.9854 - val_loss: 0.1224 - val_accuracy: 0.8657\n",
            "Epoch 30/50\n",
            "59/59 [==============================] - 1s 18ms/step - loss: 0.0133 - accuracy: 0.9851 - val_loss: 0.1185 - val_accuracy: 0.8706\n",
            "Epoch 31/50\n",
            "59/59 [==============================] - 1s 18ms/step - loss: 0.0120 - accuracy: 0.9871 - val_loss: 0.1182 - val_accuracy: 0.8698\n",
            "Epoch 32/50\n",
            "59/59 [==============================] - 1s 18ms/step - loss: 0.0128 - accuracy: 0.9857 - val_loss: 0.1171 - val_accuracy: 0.8729\n",
            "Epoch 33/50\n",
            "59/59 [==============================] - 1s 18ms/step - loss: 0.0122 - accuracy: 0.9873 - val_loss: 0.1192 - val_accuracy: 0.8697\n",
            "Epoch 34/50\n",
            "59/59 [==============================] - 1s 19ms/step - loss: 0.0115 - accuracy: 0.9880 - val_loss: 0.1183 - val_accuracy: 0.8709\n",
            "Epoch 35/50\n",
            "59/59 [==============================] - 1s 18ms/step - loss: 0.0118 - accuracy: 0.9879 - val_loss: 0.1186 - val_accuracy: 0.8709\n",
            "Epoch 36/50\n",
            "59/59 [==============================] - 1s 17ms/step - loss: 0.0116 - accuracy: 0.9878 - val_loss: 0.1202 - val_accuracy: 0.8682\n",
            "Epoch 37/50\n",
            "59/59 [==============================] - 1s 18ms/step - loss: 0.0117 - accuracy: 0.9875 - val_loss: 0.1184 - val_accuracy: 0.8717\n",
            "Epoch 38/50\n",
            "59/59 [==============================] - 1s 17ms/step - loss: 0.0117 - accuracy: 0.9874 - val_loss: 0.1210 - val_accuracy: 0.8682\n",
            "Epoch 39/50\n",
            "59/59 [==============================] - 1s 18ms/step - loss: 0.0118 - accuracy: 0.9876 - val_loss: 0.1197 - val_accuracy: 0.8707\n",
            "Epoch 40/50\n",
            "59/59 [==============================] - 1s 19ms/step - loss: 0.0112 - accuracy: 0.9880 - val_loss: 0.1208 - val_accuracy: 0.8687\n",
            "Epoch 41/50\n",
            "59/59 [==============================] - 1s 17ms/step - loss: 0.0107 - accuracy: 0.9888 - val_loss: 0.1198 - val_accuracy: 0.8705\n",
            "Epoch 42/50\n",
            "59/59 [==============================] - 1s 17ms/step - loss: 0.0116 - accuracy: 0.9879 - val_loss: 0.1217 - val_accuracy: 0.8687\n",
            "Epoch 43/50\n",
            "59/59 [==============================] - 1s 17ms/step - loss: 0.0111 - accuracy: 0.9881 - val_loss: 0.1226 - val_accuracy: 0.8678\n",
            "Epoch 44/50\n",
            "59/59 [==============================] - 1s 18ms/step - loss: 0.0112 - accuracy: 0.9883 - val_loss: 0.1224 - val_accuracy: 0.8682\n",
            "Epoch 45/50\n",
            "59/59 [==============================] - 1s 17ms/step - loss: 0.0115 - accuracy: 0.9874 - val_loss: 0.1217 - val_accuracy: 0.8695\n",
            "Epoch 46/50\n",
            "59/59 [==============================] - 1s 17ms/step - loss: 0.0114 - accuracy: 0.9878 - val_loss: 0.1254 - val_accuracy: 0.8649\n",
            "Epoch 47/50\n",
            "59/59 [==============================] - 1s 17ms/step - loss: 0.0111 - accuracy: 0.9885 - val_loss: 0.1229 - val_accuracy: 0.8683\n",
            "Epoch 48/50\n",
            "59/59 [==============================] - 1s 17ms/step - loss: 0.0112 - accuracy: 0.9882 - val_loss: 0.1271 - val_accuracy: 0.8632\n",
            "Epoch 49/50\n",
            "59/59 [==============================] - 1s 17ms/step - loss: 0.0109 - accuracy: 0.9886 - val_loss: 0.1221 - val_accuracy: 0.8684\n",
            "Epoch 50/50\n",
            "59/59 [==============================] - 1s 17ms/step - loss: 0.0107 - accuracy: 0.9890 - val_loss: 0.1209 - val_accuracy: 0.8702\n"
          ]
        }
      ],
      "source": [
        "#MODEL DEFINITION:\n",
        "from tensorflow import keras\n",
        "from tensorflow.keras import layers\n",
        "Model_3 = keras.Sequential([\n",
        "    layers.Dense(64,activation='tanh',input_shape=(10000,)),\n",
        "    layers.Dropout(rate=0.5),\n",
        "    layers.Dense(64,activation='tanh'),\n",
        "    layers.Dropout(rate=0.5),\n",
        "    layers.Dense(1,activation='sigmoid')\n",
        "])\n",
        "\n",
        "#COMPLILING THE MODEL:\n",
        "Model_3.compile(optimizer='rmsprop',\n",
        "              loss='mse',\n",
        "              metrics=['accuracy'])\n",
        "\n",
        "Hist_4 = Model_3.fit(partial_x_train,\n",
        "                       partial_y_train,\n",
        "                       epochs=50,\n",
        "                       batch_size=256,\n",
        "                       validation_data=(x_val,y_val))"
      ]
    },
    {
      "cell_type": "code",
      "execution_count": 24,
      "metadata": {
        "id": "2qMSDmI9_cyx"
      },
      "outputs": [],
      "source": [
        "Hist_dict_4 =Hist_4.history\n"
      ]
    },
    {
      "cell_type": "code",
      "execution_count": 25,
      "metadata": {
        "id": "9dI9pROb_pP5",
        "colab": {
          "base_uri": "https://localhost:8080/",
          "height": 279
        },
        "outputId": "b6b9eba7-bed3-481f-eaf0-b8e1221cd228"
      },
      "outputs": [
        {
          "output_type": "display_data",
          "data": {
            "text/plain": [
              "<Figure size 432x288 with 1 Axes>"
            ],
            "image/png": "[encoded data removed]"
          },
          "metadata": {
            "needs_background": "light"
          }
        }
      ],
      "source": [
        "# PLOTTING THE TRAINING AND VALIDATION LOSS:\n",
        "Loss = Hist_dict_4['loss']\n",
        "Val_loss = Hist_dict_4['val_loss']\n",
        "epochs = range(1, len(Loss)+1)\n",
        "plt.plot(epochs,Loss,color='grey',label='Training Loss')\n",
        "plt.plot(epochs,Val_loss,color='red',linestyle='dashed',label='Validation Loss')\n",
        "plt.xlabel('Epochs')\n",
        "plt.ylabel('Loss')\n",
        "plt.legend()\n",
        "plt.show()\n"
      ]
    },
    {
      "cell_type": "markdown",
      "metadata": {
        "id": "fTugjyE-_4S1"
      },
      "source": [
        "The validation loss begins to take a spike after the third epoch, so based on the loss graph above, we can determine that \"3\" is the appropriate number of epochs."
      ]
    },
    {
      "cell_type": "code",
      "execution_count": 26,
      "metadata": {
        "id": "m0XVwSCP_1_5",
        "colab": {
          "base_uri": "https://localhost:8080/",
          "height": 279
        },
        "outputId": "5bc11839-a0c7-4a84-b5d0-e21166ef417e"
      },
      "outputs": [
        {
          "output_type": "display_data",
          "data": {
            "text/plain": [
              "<Figure size 432x288 with 1 Axes>"
            ],
            "image/png": "[encoded data removed]"
          },
          "metadata": {
            "needs_background": "light"
          }
        }
      ],
      "source": [
        "# PLOTTING THE TRAINING AND VALIDATION ACCURACY:\n",
        "Accuracy = Hist_dict_4['accuracy']\n",
        "Validation_accuracy = Hist_dict_4['val_accuracy']\n",
        "epochs = range(1, len(Accuracy)+1)\n",
        "plt.plot(epochs,Accuracy,color=\"grey\",label=\"Training Accuracy\")\n",
        "plt.plot(epochs,Validation_accuracy, color= \"blue\", linestyle=\"dashed\",label=\"Validation Accuracy\")\n",
        "plt.xlabel('Epochs')\n",
        "plt.ylabel('Accuracy')\n",
        "plt.legend()\n",
        "plt.show()"
      ]
    },
    {
      "cell_type": "markdown",
      "metadata": {
        "id": "lRPjLsu5AMZM"
      },
      "source": [
        "The \"Accuracy Plot\" confirms the same thing; here, the accuracy peaked at the third epoch."
      ]
    },
    {
      "cell_type": "code",
      "execution_count": 27,
      "metadata": {
        "id": "AqKJOQToATk6",
        "colab": {
          "base_uri": "https://localhost:8080/"
        },
        "outputId": "734b9ce4-c108-4215-a410-d90071281fbc"
      },
      "outputs": [
        {
          "output_type": "stream",
          "name": "stdout",
          "text": [
            "Epoch 1/3\n",
            "98/98 [==============================] - 2s 12ms/step - loss: 0.1208 - accuracy: 0.8397\n",
            "Epoch 2/3\n",
            "98/98 [==============================] - 1s 12ms/step - loss: 0.0721 - accuracy: 0.9080\n",
            "Epoch 3/3\n",
            "98/98 [==============================] - 1s 12ms/step - loss: 0.0601 - accuracy: 0.9229\n"
          ]
        }
      ],
      "source": [
        "# RETRAINING THE MODEL WITH epoch = 3\n",
        "from tensorflow import keras\n",
        "from tensorflow.keras import layers\n",
        "\n",
        "Model_3 = keras.Sequential([\n",
        "    layers.Dense(64,activation='tanh',input_shape=(10000,)),\n",
        "    layers.Dense(1,activation='sigmoid')\n",
        "])\n",
        "\n",
        "Model_3.compile(optimizer='rmsprop',\n",
        "              loss='mse',\n",
        "              metrics=['accuracy'])\n",
        "\n",
        "history_4 = Model_3.fit(x_train,\n",
        "                       y_train,\n",
        "                       epochs=3,\n",
        "                      batch_size=256)\n"
      ]
    },
    {
      "cell_type": "code",
      "execution_count": 28,
      "metadata": {
        "colab": {
          "base_uri": "https://localhost:8080/"
        },
        "id": "lLhnMdJbAnCF",
        "outputId": "7e7751b4-c84a-4394-a864-55b44cd92aa3"
      },
      "outputs": [
        {
          "output_type": "stream",
          "name": "stdout",
          "text": [
            "782/782 [==============================] - 2s 2ms/step - loss: 0.1239 - accuracy: 0.8350\n"
          ]
        }
      ],
      "source": [
        "Result_3 = Model_3.evaluate(x_test,y_test)\n"
      ]
    },
    {
      "cell_type": "markdown",
      "metadata": {
        "id": "cLRJxaevAzuy"
      },
      "source": [
        "**The third model built had an accuracy on the test set of 83.50%**\n",
        "\n"
      ]
    },
    {
      "cell_type": "code",
      "source": [
        "# USING A TRAINED MODEL TO GENERATE PREDICTIONS ON THE NEW DATA:\n",
        "Model_3.predict(x_test)"
      ],
      "metadata": {
        "colab": {
          "base_uri": "https://localhost:8080/"
        },
        "id": "on5SYUG-C62P",
        "outputId": "78fbeef8-96df-4ead-e88c-78e5bf35837a"
      },
      "execution_count": 29,
      "outputs": [
        {
          "output_type": "stream",
          "name": "stdout",
          "text": [
            "782/782 [==============================] - 2s 2ms/step\n"
          ]
        },
        {
          "output_type": "execute_result",
          "data": {
            "text/plain": [
              "array([[0.264363  ],\n",
              "       [0.99998313],\n",
              "       [0.99819505],\n",
              "       ...,\n",
              "       [0.2943394 ],\n",
              "       [0.14708231],\n",
              "       [0.8774505 ]], dtype=float32)"
            ]
          },
          "metadata": {},
          "execution_count": 29
        }
      ]
    },
    {
      "cell_type": "markdown",
      "source": [
        "**MODEL 4: Hidden Layers - 3, Nodes- 64**"
      ],
      "metadata": {
        "id": "TYMgss7KAHnK"
      }
    },
    {
      "cell_type": "code",
      "source": [
        "#MODEL DEFINITION:\n",
        "from tensorflow import keras\n",
        "from tensorflow.keras import layers\n",
        "from tensorflow.keras import regularizers\n",
        "model_4 = keras.Sequential([\n",
        "    layers.Dense(64,activation='relu',kernel_regularizer=regularizers.l2(0.001),input_shape=(10000,)),\n",
        "    layers.Dense(64,activation='relu',kernel_regularizer=regularizers.l2(0.001)),\n",
        "    layers.Dense(64,activation='relu',kernel_regularizer=regularizers.l2(0.001)),\n",
        "    layers.Dense(1,activation='sigmoid')\n",
        "])\n",
        "\n",
        "##COMPLILING THE MODEL:\n",
        "model_4.compile(optimizer='rmsprop',\n",
        "              loss='binary_crossentropy',\n",
        "              metrics=['accuracy'])\n",
        "\n",
        "history_5 = model_4.fit(partial_x_train,\n",
        "                       partial_y_train,\n",
        "                       epochs=50,\n",
        "                       batch_size=512,\n",
        "                       validation_data = (x_val,y_val))"
      ],
      "metadata": {
        "colab": {
          "base_uri": "https://localhost:8080/"
        },
        "id": "THJUM-Q4AKeX",
        "outputId": "72c01f64-a1ef-4fe8-fb4a-759e865fce57"
      },
      "execution_count": 30,
      "outputs": [
        {
          "output_type": "stream",
          "name": "stdout",
          "text": [
            "Epoch 1/50\n",
            "30/30 [==============================] - 2s 40ms/step - loss: 0.7578 - accuracy: 0.7413 - val_loss: 0.5894 - val_accuracy: 0.8393\n",
            "Epoch 2/50\n",
            "30/30 [==============================] - 1s 26ms/step - loss: 0.5087 - accuracy: 0.8798 - val_loss: 0.5153 - val_accuracy: 0.8601\n",
            "Epoch 3/50\n",
            "30/30 [==============================] - 1s 26ms/step - loss: 0.4126 - accuracy: 0.9052 - val_loss: 0.4392 - val_accuracy: 0.8878\n",
            "Epoch 4/50\n",
            "30/30 [==============================] - 1s 27ms/step - loss: 0.3650 - accuracy: 0.9205 - val_loss: 0.4266 - val_accuracy: 0.8870\n",
            "Epoch 5/50\n",
            "30/30 [==============================] - 1s 25ms/step - loss: 0.3291 - accuracy: 0.9308 - val_loss: 0.4281 - val_accuracy: 0.8844\n",
            "Epoch 6/50\n",
            "30/30 [==============================] - 1s 26ms/step - loss: 0.2893 - accuracy: 0.9455 - val_loss: 0.4298 - val_accuracy: 0.8816\n",
            "Epoch 7/50\n",
            "30/30 [==============================] - 1s 26ms/step - loss: 0.2603 - accuracy: 0.9543 - val_loss: 0.4516 - val_accuracy: 0.8809\n",
            "Epoch 8/50\n",
            "30/30 [==============================] - 1s 26ms/step - loss: 0.2581 - accuracy: 0.9518 - val_loss: 0.4288 - val_accuracy: 0.8828\n",
            "Epoch 9/50\n",
            "30/30 [==============================] - 1s 26ms/step - loss: 0.2376 - accuracy: 0.9578 - val_loss: 0.4411 - val_accuracy: 0.8791\n",
            "Epoch 10/50\n",
            "30/30 [==============================] - 1s 26ms/step - loss: 0.2090 - accuracy: 0.9696 - val_loss: 0.4728 - val_accuracy: 0.8771\n",
            "Epoch 11/50\n",
            "30/30 [==============================] - 1s 26ms/step - loss: 0.2114 - accuracy: 0.9695 - val_loss: 0.6217 - val_accuracy: 0.8363\n",
            "Epoch 12/50\n",
            "30/30 [==============================] - 1s 28ms/step - loss: 0.2016 - accuracy: 0.9749 - val_loss: 0.4956 - val_accuracy: 0.8766\n",
            "Epoch 13/50\n",
            "30/30 [==============================] - 1s 30ms/step - loss: 0.1984 - accuracy: 0.9763 - val_loss: 0.5007 - val_accuracy: 0.8716\n",
            "Epoch 14/50\n",
            "30/30 [==============================] - 1s 28ms/step - loss: 0.1883 - accuracy: 0.9780 - val_loss: 0.4955 - val_accuracy: 0.8777\n",
            "Epoch 15/50\n",
            "30/30 [==============================] - 1s 27ms/step - loss: 0.1864 - accuracy: 0.9795 - val_loss: 0.5023 - val_accuracy: 0.8750\n",
            "Epoch 16/50\n",
            "30/30 [==============================] - 1s 27ms/step - loss: 0.1841 - accuracy: 0.9801 - val_loss: 0.5088 - val_accuracy: 0.8760\n",
            "Epoch 17/50\n",
            "30/30 [==============================] - 1s 25ms/step - loss: 0.1833 - accuracy: 0.9793 - val_loss: 0.4952 - val_accuracy: 0.8743\n",
            "Epoch 18/50\n",
            "30/30 [==============================] - 1s 27ms/step - loss: 0.1725 - accuracy: 0.9811 - val_loss: 0.4886 - val_accuracy: 0.8737\n",
            "Epoch 19/50\n",
            "30/30 [==============================] - 1s 26ms/step - loss: 0.1730 - accuracy: 0.9791 - val_loss: 0.4860 - val_accuracy: 0.8755\n",
            "Epoch 20/50\n",
            "30/30 [==============================] - 1s 28ms/step - loss: 0.1675 - accuracy: 0.9791 - val_loss: 0.4767 - val_accuracy: 0.8761\n",
            "Epoch 21/50\n",
            "30/30 [==============================] - 1s 27ms/step - loss: 0.1728 - accuracy: 0.9795 - val_loss: 0.4785 - val_accuracy: 0.8760\n",
            "Epoch 22/50\n",
            "30/30 [==============================] - 1s 27ms/step - loss: 0.1680 - accuracy: 0.9814 - val_loss: 0.4573 - val_accuracy: 0.8749\n",
            "Epoch 23/50\n",
            "30/30 [==============================] - 1s 27ms/step - loss: 0.1446 - accuracy: 0.9862 - val_loss: 0.5326 - val_accuracy: 0.8444\n",
            "Epoch 24/50\n",
            "30/30 [==============================] - 1s 27ms/step - loss: 0.1647 - accuracy: 0.9797 - val_loss: 0.4520 - val_accuracy: 0.8761\n",
            "Epoch 25/50\n",
            "30/30 [==============================] - 1s 27ms/step - loss: 0.1729 - accuracy: 0.9795 - val_loss: 0.4372 - val_accuracy: 0.8766\n",
            "Epoch 26/50\n",
            "30/30 [==============================] - 1s 30ms/step - loss: 0.1504 - accuracy: 0.9817 - val_loss: 0.4462 - val_accuracy: 0.8758\n",
            "Epoch 27/50\n",
            "30/30 [==============================] - 1s 30ms/step - loss: 0.1574 - accuracy: 0.9785 - val_loss: 0.4397 - val_accuracy: 0.8772\n",
            "Epoch 28/50\n",
            "30/30 [==============================] - 1s 28ms/step - loss: 0.0961 - accuracy: 0.9991 - val_loss: 0.9133 - val_accuracy: 0.8060\n",
            "Epoch 29/50\n",
            "30/30 [==============================] - 1s 27ms/step - loss: 0.1515 - accuracy: 0.9809 - val_loss: 1.2749 - val_accuracy: 0.7233\n",
            "Epoch 30/50\n",
            "30/30 [==============================] - 1s 31ms/step - loss: 0.1159 - accuracy: 0.9907 - val_loss: 0.5290 - val_accuracy: 0.8768\n",
            "Epoch 31/50\n",
            "30/30 [==============================] - 1s 27ms/step - loss: 0.1813 - accuracy: 0.9767 - val_loss: 0.4845 - val_accuracy: 0.8770\n",
            "Epoch 32/50\n",
            "30/30 [==============================] - 1s 27ms/step - loss: 0.1594 - accuracy: 0.9809 - val_loss: 0.4503 - val_accuracy: 0.8760\n",
            "Epoch 33/50\n",
            "30/30 [==============================] - 1s 27ms/step - loss: 0.0839 - accuracy: 0.9992 - val_loss: 1.0209 - val_accuracy: 0.7765\n",
            "Epoch 34/50\n",
            "30/30 [==============================] - 1s 28ms/step - loss: 0.1599 - accuracy: 0.9814 - val_loss: 0.5069 - val_accuracy: 0.8760\n",
            "Epoch 35/50\n",
            "30/30 [==============================] - 1s 26ms/step - loss: 0.1604 - accuracy: 0.9819 - val_loss: 0.4937 - val_accuracy: 0.8741\n",
            "Epoch 36/50\n",
            "30/30 [==============================] - 1s 27ms/step - loss: 0.1534 - accuracy: 0.9793 - val_loss: 0.4573 - val_accuracy: 0.8781\n",
            "Epoch 37/50\n",
            "30/30 [==============================] - 1s 27ms/step - loss: 0.1407 - accuracy: 0.9809 - val_loss: 0.4403 - val_accuracy: 0.8733\n",
            "Epoch 38/50\n",
            "30/30 [==============================] - 1s 28ms/step - loss: 0.1061 - accuracy: 0.9904 - val_loss: 0.5633 - val_accuracy: 0.8499\n",
            "Epoch 39/50\n",
            "30/30 [==============================] - 1s 27ms/step - loss: 0.1012 - accuracy: 0.9915 - val_loss: 0.5400 - val_accuracy: 0.8572\n",
            "Epoch 40/50\n",
            "30/30 [==============================] - 1s 29ms/step - loss: 0.0759 - accuracy: 0.9993 - val_loss: 0.5932 - val_accuracy: 0.8616\n",
            "Epoch 41/50\n",
            "30/30 [==============================] - 1s 34ms/step - loss: 0.1484 - accuracy: 0.9771 - val_loss: 0.4951 - val_accuracy: 0.8751\n",
            "Epoch 42/50\n",
            "30/30 [==============================] - 1s 28ms/step - loss: 0.1391 - accuracy: 0.9817 - val_loss: 0.4647 - val_accuracy: 0.8755\n",
            "Epoch 43/50\n",
            "30/30 [==============================] - 1s 27ms/step - loss: 0.1435 - accuracy: 0.9803 - val_loss: 0.4294 - val_accuracy: 0.8766\n",
            "Epoch 44/50\n",
            "30/30 [==============================] - 1s 28ms/step - loss: 0.0716 - accuracy: 0.9999 - val_loss: 0.4936 - val_accuracy: 0.8749\n",
            "Epoch 45/50\n",
            "30/30 [==============================] - 1s 28ms/step - loss: 0.1607 - accuracy: 0.9810 - val_loss: 0.4663 - val_accuracy: 0.8779\n",
            "Epoch 46/50\n",
            "30/30 [==============================] - 1s 28ms/step - loss: 0.1510 - accuracy: 0.9791 - val_loss: 0.4272 - val_accuracy: 0.8767\n",
            "Epoch 47/50\n",
            "30/30 [==============================] - 1s 28ms/step - loss: 0.0678 - accuracy: 0.9999 - val_loss: 0.4913 - val_accuracy: 0.8785\n",
            "Epoch 48/50\n",
            "30/30 [==============================] - 1s 27ms/step - loss: 0.1568 - accuracy: 0.9761 - val_loss: 0.4412 - val_accuracy: 0.8779\n",
            "Epoch 49/50\n",
            "30/30 [==============================] - 1s 26ms/step - loss: 0.0632 - accuracy: 1.0000 - val_loss: 0.5008 - val_accuracy: 0.8749\n",
            "Epoch 50/50\n",
            "30/30 [==============================] - 1s 28ms/step - loss: 0.1539 - accuracy: 0.9821 - val_loss: 0.4797 - val_accuracy: 0.8776\n"
          ]
        }
      ]
    },
    {
      "cell_type": "code",
      "source": [
        "Hist_dict_5 = history_5.history"
      ],
      "metadata": {
        "id": "8Os1Kc-1ARiU"
      },
      "execution_count": 31,
      "outputs": []
    },
    {
      "cell_type": "code",
      "source": [
        "#PLOTTING THE TRAINING AND VALIDATION ACCURACY:\n",
        "\n",
        "loss = Hist_dict_5['loss']\n",
        "val_loss = Hist_dict_5['val_loss']\n",
        "epochs = range(1, len(loss)+1)\n",
        "plt.plot(epochs,loss,color='grey',label='Training Loss')\n",
        "plt.plot(epochs,val_loss,color='red',linestyle='dashed',label='Validation Loss')\n",
        "plt.xlabel('Epochs')\n",
        "plt.ylabel('Loss')\n",
        "plt.legend()\n",
        "plt.show()"
      ],
      "metadata": {
        "colab": {
          "base_uri": "https://localhost:8080/",
          "height": 279
        },
        "id": "yngokGljARsm",
        "outputId": "6c9a506a-6524-48d5-bf8a-ebfff3a14890"
      },
      "execution_count": 32,
      "outputs": [
        {
          "output_type": "display_data",
          "data": {
            "text/plain": [
              "<Figure size 432x288 with 1 Axes>"
            ],
            "image/png": "[encoded data removed]"
          },
          "metadata": {
            "needs_background": "light"
          }
        }
      ]
    },
    {
      "cell_type": "markdown",
      "source": [
        "The validation loss begins to take a spike after the third epoch, so based on the loss graph above, we can determine that \"3\" is the appropriate number of epochs"
      ],
      "metadata": {
        "id": "HnvAnkSrAWE7"
      }
    },
    {
      "cell_type": "code",
      "source": [
        "#PLOTTING THE TRAINING AND VALIDATION ACCURACY:\n",
        "accuracy = Hist_dict_5['accuracy']\n",
        "val_accuracy = Hist_dict_5['val_accuracy']\n",
        "epochs = range(1, len(accuracy)+1)\n",
        "plt.plot(epochs,accuracy,color='grey',label='Training Accuracy')\n",
        "plt.plot(epochs,val_accuracy,color='blue',linestyle='dashed',label='Validation Accuracy')\n",
        "plt.xlabel('Epochs')\n",
        "plt.ylabel('Accuracy')\n",
        "plt.legend()\n",
        "plt.show()"
      ],
      "metadata": {
        "colab": {
          "base_uri": "https://localhost:8080/",
          "height": 279
        },
        "id": "AeDiJPCJARvo",
        "outputId": "d50762f6-5372-4948-9e3d-0d790ff18924"
      },
      "execution_count": 33,
      "outputs": [
        {
          "output_type": "display_data",
          "data": {
            "text/plain": [
              "<Figure size 432x288 with 1 Axes>"
            ],
            "image/png": "[encoded data removed]"
          },
          "metadata": {
            "needs_background": "light"
          }
        }
      ]
    },
    {
      "cell_type": "markdown",
      "source": [
        "The \"Accuracy Plot\" confirms the same thing; here, the accuracy peaked at the third epoch."
      ],
      "metadata": {
        "id": "fv6f66KkAc09"
      }
    },
    {
      "cell_type": "code",
      "source": [
        "#RETRAINING THE MODEL WITH epoch=3\n",
        "model_4 = keras.Sequential([\n",
        "    layers.Dense(64,activation='relu',kernel_regularizer=regularizers.l2(0.001),input_shape=(10000,)),\n",
        "    layers.Dense(64,activation='relu',kernel_regularizer=regularizers.l2(0.001)),\n",
        "    layers.Dense(64,activation='relu',kernel_regularizer=regularizers.l2(0.001)),\n",
        "    layers.Dense(1,activation='sigmoid')\n",
        "])\n",
        "\n",
        "model_4.compile(optimizer='rmsprop',\n",
        "              loss='binary_crossentropy',\n",
        "              metrics=['accuracy'])\n",
        "\n",
        "hist_5 = model_4.fit(x_train,\n",
        "                       y_train,\n",
        "                       epochs=3,\n",
        "                       batch_size=512)"
      ],
      "metadata": {
        "colab": {
          "base_uri": "https://localhost:8080/"
        },
        "id": "n22Qs8jAAdnk",
        "outputId": "9b476b01-36dc-402e-df1e-95641ad19501"
      },
      "execution_count": 34,
      "outputs": [
        {
          "output_type": "stream",
          "name": "stdout",
          "text": [
            "Epoch 1/3\n",
            "49/49 [==============================] - 2s 23ms/step - loss: 0.6756 - accuracy: 0.7810\n",
            "Epoch 2/3\n",
            "49/49 [==============================] - 1s 22ms/step - loss: 0.4475 - accuracy: 0.8902\n",
            "Epoch 3/3\n",
            "49/49 [==============================] - 1s 20ms/step - loss: 0.3636 - accuracy: 0.9151\n"
          ]
        }
      ]
    },
    {
      "cell_type": "code",
      "source": [
        "Result_4= model_4.evaluate(x_test,y_test)"
      ],
      "metadata": {
        "colab": {
          "base_uri": "https://localhost:8080/"
        },
        "id": "valVc8iiAxzd",
        "outputId": "72222eed-a249-4e78-eb80-eac3d3638c1c"
      },
      "execution_count": 35,
      "outputs": [
        {
          "output_type": "stream",
          "name": "stdout",
          "text": [
            "782/782 [==============================] - 2s 2ms/step - loss: 0.4109 - accuracy: 0.8872\n"
          ]
        }
      ]
    },
    {
      "cell_type": "markdown",
      "source": [
        "**The Fourth model built had an accuracy on the test set of 88.72%.**"
      ],
      "metadata": {
        "id": "4V4Bg-Z0A0aB"
      }
    },
    {
      "cell_type": "code",
      "source": [
        "# USING A TRAINED MODEL TO GENERATE PREDICTIONS ON THE NEW DATA:\n",
        "model_4.predict(x_test)"
      ],
      "metadata": {
        "colab": {
          "base_uri": "https://localhost:8080/"
        },
        "id": "AjDVhOamDWkD",
        "outputId": "b48d379c-16af-4cdd-8ad9-4d577992efc3"
      },
      "execution_count": 36,
      "outputs": [
        {
          "output_type": "stream",
          "name": "stdout",
          "text": [
            "782/782 [==============================] - 2s 2ms/step\n"
          ]
        },
        {
          "output_type": "execute_result",
          "data": {
            "text/plain": [
              "array([[0.16965552],\n",
              "       [0.99858856],\n",
              "       [0.8481492 ],\n",
              "       ...,\n",
              "       [0.06764711],\n",
              "       [0.05718164],\n",
              "       [0.47982943]], dtype=float32)"
            ]
          },
          "metadata": {},
          "execution_count": 36
        }
      ]
    },
    {
      "cell_type": "markdown",
      "source": [
        "**MODEL 5: Hidden Layer 3, Nodes - 16**"
      ],
      "metadata": {
        "id": "H6_Zq05YA2O5"
      }
    },
    {
      "cell_type": "code",
      "source": [
        "#MODEL DEFINITION:\n",
        "model_5 = keras.Sequential([\n",
        "    layers.Dense(16,activation='relu',input_shape=(10000,)),\n",
        "    layers.Dropout(rate=0.5),\n",
        "    layers.Dense(16,activation='relu'),\n",
        "    layers.Dropout(rate=0.5),\n",
        "    layers.Dense(1,activation='sigmoid')\n",
        "])\n",
        "\n",
        "#COMPLING THE MODEL:\n",
        "model_5.compile(optimizer='rmsprop',\n",
        "              loss='binary_crossentropy',\n",
        "              metrics=['accuracy'])\n",
        "\n",
        "history_6 = model_5.fit(partial_x_train,\n",
        "                       partial_y_train,\n",
        "                       epochs=35,\n",
        "                       batch_size=256,\n",
        "                       validation_data=(x_val,y_val))"
      ],
      "metadata": {
        "colab": {
          "base_uri": "https://localhost:8080/"
        },
        "id": "hG6Io-ZKA4PT",
        "outputId": "dfd9c402-1572-4465-a142-94c9f865ef45"
      },
      "execution_count": 37,
      "outputs": [
        {
          "output_type": "stream",
          "name": "stdout",
          "text": [
            "Epoch 1/35\n",
            "59/59 [==============================] - 2s 21ms/step - loss: 0.6073 - accuracy: 0.6694 - val_loss: 0.4485 - val_accuracy: 0.8547\n",
            "Epoch 2/35\n",
            "59/59 [==============================] - 1s 11ms/step - loss: 0.4474 - accuracy: 0.8111 - val_loss: 0.3389 - val_accuracy: 0.8770\n",
            "Epoch 3/35\n",
            "59/59 [==============================] - 1s 13ms/step - loss: 0.3561 - accuracy: 0.8663 - val_loss: 0.2948 - val_accuracy: 0.8853\n",
            "Epoch 4/35\n",
            "59/59 [==============================] - 1s 12ms/step - loss: 0.2965 - accuracy: 0.8929 - val_loss: 0.2753 - val_accuracy: 0.8885\n",
            "Epoch 5/35\n",
            "59/59 [==============================] - 1s 11ms/step - loss: 0.2557 - accuracy: 0.9113 - val_loss: 0.2772 - val_accuracy: 0.8879\n",
            "Epoch 6/35\n",
            "59/59 [==============================] - 1s 15ms/step - loss: 0.2179 - accuracy: 0.9278 - val_loss: 0.2914 - val_accuracy: 0.8865\n",
            "Epoch 7/35\n",
            "59/59 [==============================] - 1s 10ms/step - loss: 0.1995 - accuracy: 0.9328 - val_loss: 0.2981 - val_accuracy: 0.8853\n",
            "Epoch 8/35\n",
            "59/59 [==============================] - 1s 9ms/step - loss: 0.1721 - accuracy: 0.9444 - val_loss: 0.3242 - val_accuracy: 0.8881\n",
            "Epoch 9/35\n",
            "59/59 [==============================] - 1s 10ms/step - loss: 0.1583 - accuracy: 0.9476 - val_loss: 0.3436 - val_accuracy: 0.8890\n",
            "Epoch 10/35\n",
            "59/59 [==============================] - 1s 9ms/step - loss: 0.1382 - accuracy: 0.9537 - val_loss: 0.3664 - val_accuracy: 0.8886\n",
            "Epoch 11/35\n",
            "59/59 [==============================] - 1s 10ms/step - loss: 0.1396 - accuracy: 0.9531 - val_loss: 0.4025 - val_accuracy: 0.8915\n",
            "Epoch 12/35\n",
            "59/59 [==============================] - 1s 9ms/step - loss: 0.1197 - accuracy: 0.9603 - val_loss: 0.4403 - val_accuracy: 0.8882\n",
            "Epoch 13/35\n",
            "59/59 [==============================] - 1s 9ms/step - loss: 0.1164 - accuracy: 0.9597 - val_loss: 0.4450 - val_accuracy: 0.8846\n",
            "Epoch 14/35\n",
            "59/59 [==============================] - 1s 9ms/step - loss: 0.1090 - accuracy: 0.9637 - val_loss: 0.4852 - val_accuracy: 0.8833\n",
            "Epoch 15/35\n",
            "59/59 [==============================] - 1s 9ms/step - loss: 0.1038 - accuracy: 0.9648 - val_loss: 0.5053 - val_accuracy: 0.8844\n",
            "Epoch 16/35\n",
            "59/59 [==============================] - 1s 9ms/step - loss: 0.1065 - accuracy: 0.9639 - val_loss: 0.5070 - val_accuracy: 0.8832\n",
            "Epoch 17/35\n",
            "59/59 [==============================] - 1s 10ms/step - loss: 0.1021 - accuracy: 0.9629 - val_loss: 0.5281 - val_accuracy: 0.8803\n",
            "Epoch 18/35\n",
            "59/59 [==============================] - 1s 10ms/step - loss: 0.1027 - accuracy: 0.9637 - val_loss: 0.5592 - val_accuracy: 0.8806\n",
            "Epoch 19/35\n",
            "59/59 [==============================] - 1s 10ms/step - loss: 0.1027 - accuracy: 0.9651 - val_loss: 0.5464 - val_accuracy: 0.8797\n",
            "Epoch 20/35\n",
            "59/59 [==============================] - 1s 9ms/step - loss: 0.0929 - accuracy: 0.9680 - val_loss: 0.5954 - val_accuracy: 0.8803\n",
            "Epoch 21/35\n",
            "59/59 [==============================] - 1s 10ms/step - loss: 0.0875 - accuracy: 0.9672 - val_loss: 0.5964 - val_accuracy: 0.8814\n",
            "Epoch 22/35\n",
            "59/59 [==============================] - 1s 11ms/step - loss: 0.0886 - accuracy: 0.9672 - val_loss: 0.6380 - val_accuracy: 0.8806\n",
            "Epoch 23/35\n",
            "59/59 [==============================] - 1s 10ms/step - loss: 0.0952 - accuracy: 0.9683 - val_loss: 0.6356 - val_accuracy: 0.8785\n",
            "Epoch 24/35\n",
            "59/59 [==============================] - 1s 10ms/step - loss: 0.0994 - accuracy: 0.9657 - val_loss: 0.6403 - val_accuracy: 0.8768\n",
            "Epoch 25/35\n",
            "59/59 [==============================] - 1s 10ms/step - loss: 0.0810 - accuracy: 0.9710 - val_loss: 0.6552 - val_accuracy: 0.8757\n",
            "Epoch 26/35\n",
            "59/59 [==============================] - 1s 10ms/step - loss: 0.0985 - accuracy: 0.9659 - val_loss: 0.6671 - val_accuracy: 0.8767\n",
            "Epoch 27/35\n",
            "59/59 [==============================] - 1s 10ms/step - loss: 0.0928 - accuracy: 0.9680 - val_loss: 0.6628 - val_accuracy: 0.8778\n",
            "Epoch 28/35\n",
            "59/59 [==============================] - 1s 9ms/step - loss: 0.0927 - accuracy: 0.9706 - val_loss: 0.7117 - val_accuracy: 0.8792\n",
            "Epoch 29/35\n",
            "59/59 [==============================] - 1s 9ms/step - loss: 0.0913 - accuracy: 0.9671 - val_loss: 0.7059 - val_accuracy: 0.8717\n",
            "Epoch 30/35\n",
            "59/59 [==============================] - 1s 10ms/step - loss: 0.0969 - accuracy: 0.9669 - val_loss: 0.7330 - val_accuracy: 0.8768\n",
            "Epoch 31/35\n",
            "59/59 [==============================] - 1s 10ms/step - loss: 0.0891 - accuracy: 0.9695 - val_loss: 0.7131 - val_accuracy: 0.8750\n",
            "Epoch 32/35\n",
            "59/59 [==============================] - 1s 10ms/step - loss: 0.0954 - accuracy: 0.9674 - val_loss: 0.7208 - val_accuracy: 0.8763\n",
            "Epoch 33/35\n",
            "59/59 [==============================] - 1s 9ms/step - loss: 0.0909 - accuracy: 0.9681 - val_loss: 0.7158 - val_accuracy: 0.8749\n",
            "Epoch 34/35\n",
            "59/59 [==============================] - 1s 9ms/step - loss: 0.0887 - accuracy: 0.9686 - val_loss: 0.7695 - val_accuracy: 0.8746\n",
            "Epoch 35/35\n",
            "59/59 [==============================] - 1s 10ms/step - loss: 0.0947 - accuracy: 0.9671 - val_loss: 0.7357 - val_accuracy: 0.8760\n"
          ]
        }
      ]
    },
    {
      "cell_type": "code",
      "source": [
        "Hist_dict_6 =history_6.history"
      ],
      "metadata": {
        "id": "BnUFQWDfA7Cm"
      },
      "execution_count": 38,
      "outputs": []
    },
    {
      "cell_type": "code",
      "source": [
        "#PLOTTING THE TRAINING AND VALIDATION ACCURACY:\n",
        "loss = Hist_dict_6['loss']\n",
        "val_loss = Hist_dict_6['val_loss']\n",
        "epochs = range(1, len(loss)+1)\n",
        "plt.plot(epochs,loss,color='grey',label='Training Loss')\n",
        "plt.plot(epochs,val_loss,color='red',linestyle='dashed',label='Validation Loss')\n",
        "plt.xlabel('Epochs')\n",
        "plt.ylabel('Loss')\n",
        "plt.legend()\n",
        "plt.show()"
      ],
      "metadata": {
        "colab": {
          "base_uri": "https://localhost:8080/",
          "height": 282
        },
        "id": "IkoOrT5iA8p4",
        "outputId": "dc2aea11-ad07-4850-d4c4-a97adf74aad0"
      },
      "execution_count": 39,
      "outputs": [
        {
          "output_type": "display_data",
          "data": {
            "text/plain": [
              "<Figure size 432x288 with 1 Axes>"
            ],
            "image/png": "[encoded data removed]"
          },
          "metadata": {
            "needs_background": "light"
          }
        }
      ]
    },
    {
      "cell_type": "markdown",
      "source": [
        "The validation loss begins to take a spike after the third epoch, so based on the loss graph above, we can determine that \"3\" is the appropriate number of epochs"
      ],
      "metadata": {
        "id": "Mby1lZpxA_BZ"
      }
    },
    {
      "cell_type": "code",
      "source": [
        "#PLOTTING THE TRAINING AND VALIDATION ACCURACY:\n",
        "accuracy = Hist_dict_5['accuracy']\n",
        "val_accuracy = Hist_dict_5['val_accuracy']\n",
        "epochs = range(1, len(accuracy)+1)\n",
        "plt.plot(epochs,accuracy,color='grey',label='Training Accuracy')\n",
        "plt.plot(epochs,val_accuracy,color='blue',linestyle='dashed',label='Validation Accuracy')\n",
        "plt.xlabel('Epochs')\n",
        "plt.ylabel('Accuracy')\n",
        "plt.legend()\n",
        "plt.show()"
      ],
      "metadata": {
        "colab": {
          "base_uri": "https://localhost:8080/",
          "height": 279
        },
        "id": "SaFd2hPfBBKT",
        "outputId": "1f9b1cdb-c15b-4736-b26a-268d768a4a42"
      },
      "execution_count": 40,
      "outputs": [
        {
          "output_type": "display_data",
          "data": {
            "text/plain": [
              "<Figure size 432x288 with 1 Axes>"
            ],
            "image/png": "[encoded data removed]"
          },
          "metadata": {
            "needs_background": "light"
          }
        }
      ]
    },
    {
      "cell_type": "code",
      "source": [
        "#RETRAINING THE MODEL WITH epoch=3\n",
        "model_5 = keras.Sequential([\n",
        "    layers.Dense(16,activation='relu',input_shape=(10000,)),\n",
        "    layers.Dropout(rate=0.5),\n",
        "    layers.Dense(16,activation='relu'),\n",
        "    layers.Dropout(rate=0.5),\n",
        "    layers.Dense(1,activation='sigmoid')\n",
        "])\n",
        "\n",
        "model_5.compile(optimizer='rmsprop',\n",
        "              loss='binary_crossentropy',\n",
        "              metrics=['accuracy'])\n",
        "\n",
        "history5 = model_5.fit(x_train,\n",
        "                       y_train,\n",
        "                       epochs=3,\n",
        "                       batch_size=256)"
      ],
      "metadata": {
        "colab": {
          "base_uri": "https://localhost:8080/"
        },
        "id": "M4gv-jd3BDpX",
        "outputId": "a5390d31-3603-42e8-e5d2-62be4dfe6af0"
      },
      "execution_count": 41,
      "outputs": [
        {
          "output_type": "stream",
          "name": "stdout",
          "text": [
            "Epoch 1/3\n",
            "98/98 [==============================] - 1s 7ms/step - loss: 0.5664 - accuracy: 0.7128\n",
            "Epoch 2/3\n",
            "98/98 [==============================] - 1s 8ms/step - loss: 0.3986 - accuracy: 0.8505\n",
            "Epoch 3/3\n",
            "98/98 [==============================] - 1s 8ms/step - loss: 0.3145 - accuracy: 0.8870\n"
          ]
        }
      ]
    },
    {
      "cell_type": "code",
      "source": [
        "Result_5= model_5.evaluate(x_test,y_test)"
      ],
      "metadata": {
        "colab": {
          "base_uri": "https://localhost:8080/"
        },
        "id": "lk4fuaIpBF0a",
        "outputId": "bfc62038-f9eb-4845-9c70-6530bdd5bcae"
      },
      "execution_count": 42,
      "outputs": [
        {
          "output_type": "stream",
          "name": "stdout",
          "text": [
            "782/782 [==============================] - 2s 2ms/step - loss: 0.2916 - accuracy: 0.8810\n"
          ]
        }
      ]
    },
    {
      "cell_type": "markdown",
      "source": [
        "**The Fifth model built had an accuracy on the test set of 88.10%**"
      ],
      "metadata": {
        "id": "onA2lni2BIjX"
      }
    },
    {
      "cell_type": "code",
      "source": [
        "# USING A TRAINED MODEL TO GENERATE PREDICTIONS ON THE NEW DATA:\n",
        "model_5.predict(x_test)"
      ],
      "metadata": {
        "colab": {
          "base_uri": "https://localhost:8080/"
        },
        "id": "onXM5XG_Dm3p",
        "outputId": "d5ad5b0f-7b12-4c31-8a60-39585269c8f6"
      },
      "execution_count": 43,
      "outputs": [
        {
          "output_type": "stream",
          "name": "stdout",
          "text": [
            "782/782 [==============================] - 1s 2ms/step\n"
          ]
        },
        {
          "output_type": "execute_result",
          "data": {
            "text/plain": [
              "array([[0.15788795],\n",
              "       [0.9995093 ],\n",
              "       [0.9143709 ],\n",
              "       ...,\n",
              "       [0.09689429],\n",
              "       [0.12464382],\n",
              "       [0.30330494]], dtype=float32)"
            ]
          },
          "metadata": {},
          "execution_count": 43
        }
      ]
    },
    {
      "cell_type": "markdown",
      "source": [
        "**MODEL 6 : Hidden Layer- 1, Nodes- 32**"
      ],
      "metadata": {
        "id": "wq4rApSfBLbJ"
      }
    },
    {
      "cell_type": "code",
      "source": [
        "#MODEL DEFINITION:\n",
        "model_6 = keras.Sequential([\n",
        "    layers.Dense(32,activation='tanh',input_shape=(10000,)),\n",
        "    layers.Dropout(rate=0.3),\n",
        "    layers.Dense(1,activation='sigmoid')\n",
        "])\n",
        "\n",
        "#COMPILING THE MODEL\n",
        "model_6.compile(optimizer='adam',\n",
        "              loss='mse',\n",
        "              metrics=['accuracy'])\n",
        "\n",
        "history_7 = model_6.fit(partial_x_train,\n",
        "                       partial_y_train,\n",
        "                       epochs=50,\n",
        "                       batch_size=512,\n",
        "                       validation_data=(x_val,y_val))"
      ],
      "metadata": {
        "colab": {
          "base_uri": "https://localhost:8080/"
        },
        "id": "yEdnNdvRBPHR",
        "outputId": "841d425a-93f4-472a-d540-9a826bf79150"
      },
      "execution_count": 44,
      "outputs": [
        {
          "output_type": "stream",
          "name": "stdout",
          "text": [
            "Epoch 1/50\n",
            "30/30 [==============================] - 1s 31ms/step - loss: 0.1605 - accuracy: 0.7934 - val_loss: 0.1128 - val_accuracy: 0.8679\n",
            "Epoch 2/50\n",
            "30/30 [==============================] - 1s 18ms/step - loss: 0.0851 - accuracy: 0.9086 - val_loss: 0.0925 - val_accuracy: 0.8868\n",
            "Epoch 3/50\n",
            "30/30 [==============================] - 1s 17ms/step - loss: 0.0634 - accuracy: 0.9327 - val_loss: 0.0861 - val_accuracy: 0.8904\n",
            "Epoch 4/50\n",
            "30/30 [==============================] - 1s 17ms/step - loss: 0.0500 - accuracy: 0.9510 - val_loss: 0.0835 - val_accuracy: 0.8897\n",
            "Epoch 5/50\n",
            "30/30 [==============================] - 1s 19ms/step - loss: 0.0411 - accuracy: 0.9629 - val_loss: 0.0834 - val_accuracy: 0.8875\n",
            "Epoch 6/50\n",
            "30/30 [==============================] - 1s 17ms/step - loss: 0.0342 - accuracy: 0.9717 - val_loss: 0.0839 - val_accuracy: 0.8866\n",
            "Epoch 7/50\n",
            "30/30 [==============================] - 1s 24ms/step - loss: 0.0287 - accuracy: 0.9781 - val_loss: 0.0849 - val_accuracy: 0.8834\n",
            "Epoch 8/50\n",
            "30/30 [==============================] - 1s 19ms/step - loss: 0.0245 - accuracy: 0.9828 - val_loss: 0.0864 - val_accuracy: 0.8830\n",
            "Epoch 9/50\n",
            "30/30 [==============================] - 1s 21ms/step - loss: 0.0211 - accuracy: 0.9860 - val_loss: 0.0879 - val_accuracy: 0.8822\n",
            "Epoch 10/50\n",
            "30/30 [==============================] - 1s 20ms/step - loss: 0.0184 - accuracy: 0.9871 - val_loss: 0.0895 - val_accuracy: 0.8783\n",
            "Epoch 11/50\n",
            "30/30 [==============================] - 1s 17ms/step - loss: 0.0158 - accuracy: 0.9903 - val_loss: 0.0906 - val_accuracy: 0.8787\n",
            "Epoch 12/50\n",
            "30/30 [==============================] - 1s 17ms/step - loss: 0.0137 - accuracy: 0.9924 - val_loss: 0.0919 - val_accuracy: 0.8773\n",
            "Epoch 13/50\n",
            "30/30 [==============================] - 1s 17ms/step - loss: 0.0119 - accuracy: 0.9935 - val_loss: 0.0933 - val_accuracy: 0.8763\n",
            "Epoch 14/50\n",
            "30/30 [==============================] - 1s 17ms/step - loss: 0.0107 - accuracy: 0.9943 - val_loss: 0.0946 - val_accuracy: 0.8752\n",
            "Epoch 15/50\n",
            "30/30 [==============================] - 1s 17ms/step - loss: 0.0096 - accuracy: 0.9952 - val_loss: 0.0959 - val_accuracy: 0.8744\n",
            "Epoch 16/50\n",
            "30/30 [==============================] - 1s 18ms/step - loss: 0.0087 - accuracy: 0.9957 - val_loss: 0.0974 - val_accuracy: 0.8723\n",
            "Epoch 17/50\n",
            "30/30 [==============================] - 1s 18ms/step - loss: 0.0079 - accuracy: 0.9957 - val_loss: 0.0980 - val_accuracy: 0.8710\n",
            "Epoch 18/50\n",
            "30/30 [==============================] - 1s 17ms/step - loss: 0.0074 - accuracy: 0.9961 - val_loss: 0.0993 - val_accuracy: 0.8711\n",
            "Epoch 19/50\n",
            "30/30 [==============================] - 1s 17ms/step - loss: 0.0068 - accuracy: 0.9963 - val_loss: 0.0999 - val_accuracy: 0.8700\n",
            "Epoch 20/50\n",
            "30/30 [==============================] - 1s 18ms/step - loss: 0.0062 - accuracy: 0.9965 - val_loss: 0.1009 - val_accuracy: 0.8694\n",
            "Epoch 21/50\n",
            "30/30 [==============================] - 1s 17ms/step - loss: 0.0058 - accuracy: 0.9965 - val_loss: 0.1020 - val_accuracy: 0.8679\n",
            "Epoch 22/50\n",
            "30/30 [==============================] - 1s 18ms/step - loss: 0.0053 - accuracy: 0.9967 - val_loss: 0.1025 - val_accuracy: 0.8696\n",
            "Epoch 23/50\n",
            "30/30 [==============================] - 1s 18ms/step - loss: 0.0051 - accuracy: 0.9969 - val_loss: 0.1032 - val_accuracy: 0.8683\n",
            "Epoch 24/50\n",
            "30/30 [==============================] - 1s 18ms/step - loss: 0.0047 - accuracy: 0.9971 - val_loss: 0.1043 - val_accuracy: 0.8672\n",
            "Epoch 25/50\n",
            "30/30 [==============================] - 1s 17ms/step - loss: 0.0045 - accuracy: 0.9971 - val_loss: 0.1048 - val_accuracy: 0.8662\n",
            "Epoch 26/50\n",
            "30/30 [==============================] - 1s 17ms/step - loss: 0.0043 - accuracy: 0.9972 - val_loss: 0.1053 - val_accuracy: 0.8661\n",
            "Epoch 27/50\n",
            "30/30 [==============================] - 0s 17ms/step - loss: 0.0041 - accuracy: 0.9973 - val_loss: 0.1058 - val_accuracy: 0.8664\n",
            "Epoch 28/50\n",
            "30/30 [==============================] - 1s 19ms/step - loss: 0.0040 - accuracy: 0.9973 - val_loss: 0.1062 - val_accuracy: 0.8665\n",
            "Epoch 29/50\n",
            "30/30 [==============================] - 0s 17ms/step - loss: 0.0038 - accuracy: 0.9973 - val_loss: 0.1070 - val_accuracy: 0.8655\n",
            "Epoch 30/50\n",
            "30/30 [==============================] - 1s 21ms/step - loss: 0.0037 - accuracy: 0.9973 - val_loss: 0.1077 - val_accuracy: 0.8642\n",
            "Epoch 31/50\n",
            "30/30 [==============================] - 1s 21ms/step - loss: 0.0036 - accuracy: 0.9973 - val_loss: 0.1081 - val_accuracy: 0.8643\n",
            "Epoch 32/50\n",
            "30/30 [==============================] - 1s 18ms/step - loss: 0.0035 - accuracy: 0.9973 - val_loss: 0.1081 - val_accuracy: 0.8649\n",
            "Epoch 33/50\n",
            "30/30 [==============================] - 1s 17ms/step - loss: 0.0035 - accuracy: 0.9974 - val_loss: 0.1085 - val_accuracy: 0.8640\n",
            "Epoch 34/50\n",
            "30/30 [==============================] - 1s 17ms/step - loss: 0.0034 - accuracy: 0.9974 - val_loss: 0.1086 - val_accuracy: 0.8658\n",
            "Epoch 35/50\n",
            "30/30 [==============================] - 1s 18ms/step - loss: 0.0034 - accuracy: 0.9975 - val_loss: 0.1097 - val_accuracy: 0.8631\n",
            "Epoch 36/50\n",
            "30/30 [==============================] - 0s 17ms/step - loss: 0.0032 - accuracy: 0.9975 - val_loss: 0.1097 - val_accuracy: 0.8632\n",
            "Epoch 37/50\n",
            "30/30 [==============================] - 1s 18ms/step - loss: 0.0032 - accuracy: 0.9975 - val_loss: 0.1099 - val_accuracy: 0.8633\n",
            "Epoch 38/50\n",
            "30/30 [==============================] - 1s 17ms/step - loss: 0.0031 - accuracy: 0.9975 - val_loss: 0.1101 - val_accuracy: 0.8631\n",
            "Epoch 39/50\n",
            "30/30 [==============================] - 1s 18ms/step - loss: 0.0031 - accuracy: 0.9975 - val_loss: 0.1106 - val_accuracy: 0.8629\n",
            "Epoch 40/50\n",
            "30/30 [==============================] - 1s 17ms/step - loss: 0.0030 - accuracy: 0.9975 - val_loss: 0.1108 - val_accuracy: 0.8642\n",
            "Epoch 41/50\n",
            "30/30 [==============================] - 1s 17ms/step - loss: 0.0030 - accuracy: 0.9975 - val_loss: 0.1113 - val_accuracy: 0.8635\n",
            "Epoch 42/50\n",
            "30/30 [==============================] - 1s 17ms/step - loss: 0.0030 - accuracy: 0.9975 - val_loss: 0.1115 - val_accuracy: 0.8634\n",
            "Epoch 43/50\n",
            "30/30 [==============================] - 1s 18ms/step - loss: 0.0029 - accuracy: 0.9975 - val_loss: 0.1118 - val_accuracy: 0.8634\n",
            "Epoch 44/50\n",
            "30/30 [==============================] - 1s 17ms/step - loss: 0.0029 - accuracy: 0.9975 - val_loss: 0.1119 - val_accuracy: 0.8631\n",
            "Epoch 45/50\n",
            "30/30 [==============================] - 1s 17ms/step - loss: 0.0029 - accuracy: 0.9975 - val_loss: 0.1124 - val_accuracy: 0.8626\n",
            "Epoch 46/50\n",
            "30/30 [==============================] - 1s 18ms/step - loss: 0.0028 - accuracy: 0.9976 - val_loss: 0.1127 - val_accuracy: 0.8618\n",
            "Epoch 47/50\n",
            "30/30 [==============================] - 1s 24ms/step - loss: 0.0028 - accuracy: 0.9976 - val_loss: 0.1127 - val_accuracy: 0.8619\n",
            "Epoch 48/50\n",
            "30/30 [==============================] - 1s 17ms/step - loss: 0.0027 - accuracy: 0.9976 - val_loss: 0.1128 - val_accuracy: 0.8621\n",
            "Epoch 49/50\n",
            "30/30 [==============================] - 1s 18ms/step - loss: 0.0027 - accuracy: 0.9976 - val_loss: 0.1130 - val_accuracy: 0.8623\n",
            "Epoch 50/50\n",
            "30/30 [==============================] - 1s 18ms/step - loss: 0.0027 - accuracy: 0.9976 - val_loss: 0.1132 - val_accuracy: 0.8617\n"
          ]
        }
      ]
    },
    {
      "cell_type": "code",
      "source": [
        "hist_dict_7=history_7.history"
      ],
      "metadata": {
        "id": "JGkToMNTBSyq"
      },
      "execution_count": 45,
      "outputs": []
    },
    {
      "cell_type": "code",
      "source": [
        "#PLOTTING TH TRAINING AND VALIDATION LOSS:\n",
        "loss = hist_dict_7['loss']\n",
        "val_loss = hist_dict_7['val_loss']\n",
        "epochs = range(1, len(loss)+1)\n",
        "plt.plot(epochs,loss,color='grey',label='Training Loss')\n",
        "plt.plot(epochs,val_loss,color='red',linestyle='dashed',label='Validation Loss')\n",
        "plt.xlabel('Epochs')\n",
        "plt.ylabel('Loss')\n",
        "plt.legend()\n",
        "plt.show()"
      ],
      "metadata": {
        "colab": {
          "base_uri": "https://localhost:8080/",
          "height": 279
        },
        "id": "11dHnVe4BUNn",
        "outputId": "f63e9d6c-d4a6-4477-9d60-ebdb25caa445"
      },
      "execution_count": 46,
      "outputs": [
        {
          "output_type": "display_data",
          "data": {
            "text/plain": [
              "<Figure size 432x288 with 1 Axes>"
            ],
            "image/png": "[encoded data removed]"
          },
          "metadata": {
            "needs_background": "light"
          }
        }
      ]
    },
    {
      "cell_type": "markdown",
      "source": [
        "We can determine the correct number of epochs to be \"5\" from the loss graph shown above because the validation loss begins to spike after the fifth epoch"
      ],
      "metadata": {
        "id": "Rgz-5RwLBWje"
      }
    },
    {
      "cell_type": "code",
      "source": [
        "#PLOTTING TH TRAINING AND VALIDATION ACCURACY:\n",
        "accuracy = hist_dict_7['accuracy']\n",
        "val_accuracy = hist_dict_7['val_accuracy']\n",
        "epochs = range(1, len(accuracy)+1)\n",
        "plt.plot(epochs,accuracy,color='grey',label='Training Accuracy')\n",
        "plt.plot(epochs,val_accuracy,color='blue',linestyle='dashed',label='Validation Accuracy')\n",
        "plt.xlabel('Epochs')\n",
        "plt.ylabel('Accuracy')\n",
        "plt.legend()\n",
        "plt.show()"
      ],
      "metadata": {
        "colab": {
          "base_uri": "https://localhost:8080/",
          "height": 279
        },
        "id": "CZvP_xniBXgR",
        "outputId": "6ee0d13f-6c0d-4aba-b61b-2f8ec5836012"
      },
      "execution_count": 47,
      "outputs": [
        {
          "output_type": "display_data",
          "data": {
            "text/plain": [
              "<Figure size 432x288 with 1 Axes>"
            ],
            "image/png": "[encoded data removed]"
          },
          "metadata": {
            "needs_background": "light"
          }
        }
      ]
    },
    {
      "cell_type": "markdown",
      "source": [
        "The \"Accuracy Plot\" confirms the same thing; here, the accuracy peaked at the fifth epoch."
      ],
      "metadata": {
        "id": "T3MypEVSBbXS"
      }
    },
    {
      "cell_type": "code",
      "source": [
        "#RETRAINING THE MODEL WITH epoch=5\n",
        "model_6 = keras.Sequential([\n",
        "    layers.Dense(32,activation='tanh',input_shape=(10000,)),\n",
        "    layers.Dropout(rate=0.3),\n",
        "    layers.Dense(1,activation='sigmoid')\n",
        "])\n",
        "\n",
        "model_6.compile(optimizer='adam',\n",
        "              loss='mse',\n",
        "              metrics=['accuracy'])\n",
        "\n",
        "history7 = model_6.fit(x_train,\n",
        "                       y_train,\n",
        "                       epochs=5,\n",
        "                       batch_size=256)"
      ],
      "metadata": {
        "colab": {
          "base_uri": "https://localhost:8080/"
        },
        "id": "S0TxnuJyBXm8",
        "outputId": "19ee9e44-2a07-4772-ba56-bff310f1ac3a"
      },
      "execution_count": 48,
      "outputs": [
        {
          "output_type": "stream",
          "name": "stdout",
          "text": [
            "Epoch 1/5\n",
            "98/98 [==============================] - 2s 10ms/step - loss: 0.1210 - accuracy: 0.8508\n",
            "Epoch 2/5\n",
            "98/98 [==============================] - 1s 9ms/step - loss: 0.0643 - accuracy: 0.9208\n",
            "Epoch 3/5\n",
            "98/98 [==============================] - 1s 8ms/step - loss: 0.0486 - accuracy: 0.9435\n",
            "Epoch 4/5\n",
            "98/98 [==============================] - 1s 8ms/step - loss: 0.0395 - accuracy: 0.9559\n",
            "Epoch 5/5\n",
            "98/98 [==============================] - 1s 9ms/step - loss: 0.0329 - accuracy: 0.9650\n"
          ]
        }
      ]
    },
    {
      "cell_type": "code",
      "source": [
        "result_6= model_6.evaluate(x_test,y_test)"
      ],
      "metadata": {
        "colab": {
          "base_uri": "https://localhost:8080/"
        },
        "id": "Dg61LHANBfCJ",
        "outputId": "f9bff9d2-6849-40f1-bfb7-64d0eaa1a728"
      },
      "execution_count": 49,
      "outputs": [
        {
          "output_type": "stream",
          "name": "stdout",
          "text": [
            "782/782 [==============================] - 2s 2ms/step - loss: 0.0969 - accuracy: 0.8706\n"
          ]
        }
      ]
    },
    {
      "cell_type": "markdown",
      "source": [
        ":**The Sixth model built had an accuracy on the test set of 87.06%**"
      ],
      "metadata": {
        "id": "SoMSw1gCFXGD"
      }
    },
    {
      "cell_type": "code",
      "source": [
        "# USING A TRAINED MODEL TO GENERATE PREDICTIONS ON THE NEW DATA:\n",
        "model_6.predict(x_test)"
      ],
      "metadata": {
        "colab": {
          "base_uri": "https://localhost:8080/"
        },
        "id": "YFMKG4DAFUm1",
        "outputId": "23b6ac4e-527f-4c12-d9af-850e09c4f650"
      },
      "execution_count": 50,
      "outputs": [
        {
          "output_type": "stream",
          "name": "stdout",
          "text": [
            "782/782 [==============================] - 1s 2ms/step\n"
          ]
        },
        {
          "output_type": "execute_result",
          "data": {
            "text/plain": [
              "array([[0.05909999],\n",
              "       [0.9999382 ],\n",
              "       [0.36853468],\n",
              "       ...,\n",
              "       [0.12880376],\n",
              "       [0.03066854],\n",
              "       [0.62575835]], dtype=float32)"
            ]
          },
          "metadata": {},
          "execution_count": 50
        }
      ]
    },
    {
      "cell_type": "code",
      "source": [
        "#Evaluating the performance of six different neural network models trained on the IMDB dataset \n",
        "loss_dict = {'Model1': 0.08, 'Model2': 0.08, 'Model3': 0.12, 'Model4': 0.41,\n",
        "             'Model5': 0.29, 'Model6': 0.09}\n",
        "\n",
        "# Get model names and loss values as separate lists\n",
        "models = list(loss_dict.keys())\n",
        "losses = list(loss_dict.values())\n",
        "\n",
        "# Plot the scatter plot with labels\n",
        "plt.scatter(models, losses, color='purple')\n",
        "plt.title('Performance Loss')\n",
        "plt.ylabel('Loss (%)')\n",
        "\n",
        "for (xi, yi) in zip(models, losses):\n",
        "    plt.text(xi, yi, str(yi), va='bottom', ha='center')\n",
        "\n",
        "plt.show()\n",
        "     "
      ],
      "metadata": {
        "colab": {
          "base_uri": "https://localhost:8080/",
          "height": 281
        },
        "id": "P4kVekt4l60b",
        "outputId": "6e14d563-1029-4baf-f7f5-420ca5d09274"
      },
      "execution_count": 53,
      "outputs": [
        {
          "output_type": "display_data",
          "data": {
            "text/plain": [
              "<Figure size 432x288 with 1 Axes>"
            ],
            "image/png": "[encoded data removed]"
          },
          "metadata": {
            "needs_background": "light"
          }
        }
      ]
    },
    {
      "cell_type": "code",
      "source": [
        "import matplotlib.pyplot as plt\n",
        "\n",
        "# Create a dictionary with model names as keys and accuracy values as values\n",
        "acc_dict = {'Model1': 0.88, 'Model2': 0.88, 'Model3': 0.83, 'Model4': 0.88,\n",
        "            'Model5': 0.88, 'Model6': 0.87}\n",
        "\n",
        "# Get model names and accuracy values as separate lists\n",
        "models = list(acc_dict.keys())\n",
        "accuracy = list(acc_dict.values())\n",
        "\n",
        "# Plot the scatter plot with labels\n",
        "plt.scatter(models, accuracy, color='red')\n",
        "plt.title('Performance Accuracy')\n",
        "plt.ylabel('Accuracy (%)')\n",
        "\n",
        "for (xi, yi) in zip(models, accuracy):\n",
        "  plt.text(xi, yi, str(yi), va='bottom', ha='center')\n",
        "\n",
        "plt.show()"
      ],
      "metadata": {
        "colab": {
          "base_uri": "https://localhost:8080/",
          "height": 281
        },
        "id": "GafxbdwzmBnj",
        "outputId": "afbf2331-750a-4b40-fa53-ba2d0fd31695"
      },
      "execution_count": 54,
      "outputs": [
        {
          "output_type": "display_data",
          "data": {
            "text/plain": [
              "<Figure size 432x288 with 1 Axes>"
            ],
            "image/png": "[encoded data removed]"
          },
          "metadata": {
            "needs_background": "light"
          }
        }
      ]
    }
  ],
  "metadata": {
    "colab": {
      "machine_shape": "hm",
      "provenance": []
    },
    "gpuClass": "standard",
    "kernelspec": {
      "display_name": "Python 3",
      "name": "python3"
    },
    "language_info": {
      "name": "python"
    }
  },
  "nbformat": 4,
  "nbformat_minor": 0
}